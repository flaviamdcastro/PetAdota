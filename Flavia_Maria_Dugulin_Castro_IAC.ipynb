{
  "nbformat": 4,
  "nbformat_minor": 0,
  "metadata": {
    "colab": {
      "provenance": []
    },
    "kernelspec": {
      "name": "python3",
      "display_name": "Python 3"
    },
    "language_info": {
      "name": "python"
    }
  },
  "cells": [
    {
      "cell_type": "markdown",
      "source": [
        "# Atividade Prática 1\n",
        "Descrição: Configurando o Terraform no Google Cloud.\n",
        "\n",
        "Objetivo: Através do Google Colab criar um bucket de armazenamento no GCP usando Terraform.\n",
        "\n",
        "* Configure suas credenciais no GCP\n",
        "* Instalar o terraforms."
      ],
      "metadata": {
        "id": "TIqV19ci7gD_"
      }
    },
    {
      "cell_type": "code",
      "source": [
        "!curl -fsSL https://apt.releases.hashicorp.com/gpg | sudo apt-key add -\n",
        "!sudo apt-add-repository \"deb [arch=amd64] https://apt.releases.hashicorp.com $(lsb_release -cs) main\"\n",
        "!sudo apt-get update\n",
        "!sudo apt-get install terraform\n",
        "!terraform -v # Para verificar a instalação"
      ],
      "metadata": {
        "colab": {
          "base_uri": "https://localhost:8080/"
        },
        "id": "dzBXosGvXBj0",
        "outputId": "4a925bc7-0f24-4920-dfa1-cba0f75bfb35"
      },
      "execution_count": 1,
      "outputs": [
        {
          "output_type": "stream",
          "name": "stdout",
          "text": [
            "Warning: apt-key is deprecated. Manage keyring files in trusted.gpg.d instead (see apt-key(8)).\n",
            "OK\n",
            "Repository: 'deb [arch=amd64] https://apt.releases.hashicorp.com jammy main'\n",
            "Description:\n",
            "Archive for codename: jammy components: main\n",
            "More info: https://apt.releases.hashicorp.com\n",
            "Adding repository.\n",
            "Press [ENTER] to continue or Ctrl-c to cancel.\n",
            "Found existing deb entry in /etc/apt/sources.list.d/archive_uri-https_apt_releases_hashicorp_com-jammy.list\n",
            "Adding deb entry to /etc/apt/sources.list.d/archive_uri-https_apt_releases_hashicorp_com-jammy.list\n",
            "Found existing deb-src entry in /etc/apt/sources.list.d/archive_uri-https_apt_releases_hashicorp_com-jammy.list\n",
            "Adding disabled deb-src entry to /etc/apt/sources.list.d/archive_uri-https_apt_releases_hashicorp_com-jammy.list\n",
            "Hit:1 https://apt.releases.hashicorp.com jammy InRelease\n",
            "Hit:2 https://developer.download.nvidia.com/compute/cuda/repos/ubuntu2204/x86_64  InRelease\n",
            "Hit:3 http://archive.ubuntu.com/ubuntu jammy InRelease\n",
            "Hit:4 http://security.ubuntu.com/ubuntu jammy-security InRelease\n",
            "Hit:5 http://archive.ubuntu.com/ubuntu jammy-updates InRelease\n",
            "Hit:6 http://archive.ubuntu.com/ubuntu jammy-backports InRelease\n",
            "Hit:7 https://cloud.r-project.org/bin/linux/ubuntu jammy-cran40/ InRelease\n",
            "Hit:8 https://ppa.launchpadcontent.net/deadsnakes/ppa/ubuntu jammy InRelease\n",
            "Hit:9 https://r2u.stat.illinois.edu/ubuntu jammy InRelease\n",
            "Hit:10 https://ppa.launchpadcontent.net/graphics-drivers/ppa/ubuntu jammy InRelease\n",
            "Hit:11 https://ppa.launchpadcontent.net/ubuntugis/ppa/ubuntu jammy InRelease\n",
            "Reading package lists... Done\n",
            "W: https://apt.releases.hashicorp.com/dists/jammy/InRelease: Key is stored in legacy trusted.gpg keyring (/etc/apt/trusted.gpg), see the DEPRECATION section in apt-key(8) for details.\n",
            "W: Skipping acquire of configured file 'main/source/Sources' as repository 'https://r2u.stat.illinois.edu/ubuntu jammy InRelease' does not seem to provide it (sources.list entry misspelt?)\n",
            "Hit:1 https://developer.download.nvidia.com/compute/cuda/repos/ubuntu2204/x86_64  InRelease\n",
            "Hit:2 https://cloud.r-project.org/bin/linux/ubuntu jammy-cran40/ InRelease\n",
            "Hit:3 https://apt.releases.hashicorp.com jammy InRelease\n",
            "Hit:4 http://archive.ubuntu.com/ubuntu jammy InRelease\n",
            "Hit:5 http://security.ubuntu.com/ubuntu jammy-security InRelease\n",
            "Hit:6 http://archive.ubuntu.com/ubuntu jammy-updates InRelease\n",
            "Hit:7 http://archive.ubuntu.com/ubuntu jammy-backports InRelease\n",
            "Hit:8 https://r2u.stat.illinois.edu/ubuntu jammy InRelease\n",
            "Hit:9 https://ppa.launchpadcontent.net/deadsnakes/ppa/ubuntu jammy InRelease\n",
            "Hit:10 https://ppa.launchpadcontent.net/graphics-drivers/ppa/ubuntu jammy InRelease\n",
            "Hit:11 https://ppa.launchpadcontent.net/ubuntugis/ppa/ubuntu jammy InRelease\n",
            "Reading package lists... Done\n",
            "W: https://apt.releases.hashicorp.com/dists/jammy/InRelease: Key is stored in legacy trusted.gpg keyring (/etc/apt/trusted.gpg), see the DEPRECATION section in apt-key(8) for details.\n",
            "W: Skipping acquire of configured file 'main/source/Sources' as repository 'https://r2u.stat.illinois.edu/ubuntu jammy InRelease' does not seem to provide it (sources.list entry misspelt?)\n",
            "Reading package lists... Done\n",
            "Building dependency tree... Done\n",
            "Reading state information... Done\n",
            "terraform is already the newest version (1.11.1-1).\n",
            "0 upgraded, 0 newly installed, 0 to remove and 33 not upgraded.\n",
            "Terraform v1.11.1\n",
            "on linux_amd64\n",
            "+ provider registry.terraform.io/hashicorp/google v4.85.0\n"
          ]
        }
      ]
    },
    {
      "cell_type": "markdown",
      "source": [
        "* Criar o arquivo main.tf"
      ],
      "metadata": {
        "id": "EFvZvdPq7wRH"
      }
    },
    {
      "cell_type": "code",
      "source": [
        "%%writefile main.tf\n",
        "terraform {\n",
        "  required_providers {\n",
        "    google = {\n",
        "      source  = \"hashicorp/google\"\n",
        "      version = \"~> 4.0\" # ou a versão mais recente\n",
        "    }\n",
        "  }\n",
        "}\n",
        "\n",
        "provider \"google\" {\n",
        "  project     = \"decoded-app-453116-m4\" # ID do seu projeto GCP\n",
        "  region      = \"us-central1\" # Região padrão, você pode alterar\n",
        "  credentials = file(\"/content/decoded-app-453116-m4-83736621c012.json\") # Usa a variável de ambiente configurada\n",
        "}\n",
        "\n",
        "resource \"google_storage_bucket\" \"petadota_bucket\" {\n",
        "  name          = \"petadota-bucket-storage-dugulin\" # nome de bucket único globalmente\n",
        "  location      = \"US\" # Localização do bucket\n",
        "  storage_class = \"STANDARD\" # Classe de armazenamento\n",
        "}"
      ],
      "metadata": {
        "colab": {
          "base_uri": "https://localhost:8080/"
        },
        "id": "Rq6-p7G4Zxo9",
        "outputId": "d73e8b7a-ff3f-424d-c8e7-9cbe8c60acb9"
      },
      "execution_count": 2,
      "outputs": [
        {
          "output_type": "stream",
          "name": "stdout",
          "text": [
            "Overwriting main.tf\n"
          ]
        }
      ]
    },
    {
      "cell_type": "markdown",
      "source": [
        "* Executar o Terraform no colab"
      ],
      "metadata": {
        "id": "KlCzGxID8T1t"
      }
    },
    {
      "cell_type": "code",
      "source": [
        "!terraform init # Inicializa o Terraform"
      ],
      "metadata": {
        "colab": {
          "base_uri": "https://localhost:8080/"
        },
        "id": "9Xm21YUMaVqo",
        "outputId": "6a288dcc-8739-43a8-bff1-fe761e8fd5de"
      },
      "execution_count": 3,
      "outputs": [
        {
          "output_type": "stream",
          "name": "stdout",
          "text": [
            "\u001b[0m\u001b[1mInitializing the backend...\u001b[0m\n",
            "\u001b[0m\u001b[1mInitializing provider plugins...\u001b[0m\n",
            "- Reusing previous version of hashicorp/google from the dependency lock file\n",
            "- Using previously-installed hashicorp/google v4.85.0\n",
            "\n",
            "\u001b[0m\u001b[1m\u001b[32mTerraform has been successfully initialized!\u001b[0m\u001b[32m\u001b[0m\n",
            "\u001b[0m\u001b[32m\n",
            "You may now begin working with Terraform. Try running \"terraform plan\" to see\n",
            "any changes that are required for your infrastructure. All Terraform commands\n",
            "should now work.\n",
            "\n",
            "If you ever set or change modules or backend configuration for Terraform,\n",
            "rerun this command to reinitialize your working directory. If you forget, other\n",
            "commands will detect it and remind you to do so if necessary.\u001b[0m\n"
          ]
        }
      ]
    },
    {
      "cell_type": "code",
      "source": [
        "!terraform plan # Verifica o que será criado (plano de execução)"
      ],
      "metadata": {
        "colab": {
          "base_uri": "https://localhost:8080/"
        },
        "id": "H_anywB6bR2I",
        "outputId": "db21f46e-1841-423a-c5c2-539be538f511"
      },
      "execution_count": 4,
      "outputs": [
        {
          "output_type": "stream",
          "name": "stdout",
          "text": [
            "\n",
            "Terraform used the selected providers to generate the following execution plan. Resource actions are indicated with the following symbols:\n",
            "  \u001b[32m+\u001b[0m create\u001b[0m\n",
            "\n",
            "Terraform will perform the following actions:\n",
            "\n",
            "\u001b[1m  # google_compute_instance.vm_petadota\u001b[0m will be created\n",
            "\u001b[0m  \u001b[32m+\u001b[0m\u001b[0m resource \"google_compute_instance\" \"vm_petadota\" {\n",
            "      \u001b[32m+\u001b[0m\u001b[0m can_ip_forward       = false\n",
            "      \u001b[32m+\u001b[0m\u001b[0m cpu_platform         = (known after apply)\n",
            "      \u001b[32m+\u001b[0m\u001b[0m current_status       = (known after apply)\n",
            "      \u001b[32m+\u001b[0m\u001b[0m deletion_protection  = false\n",
            "      \u001b[32m+\u001b[0m\u001b[0m guest_accelerator    = (known after apply)\n",
            "      \u001b[32m+\u001b[0m\u001b[0m id                   = (known after apply)\n",
            "      \u001b[32m+\u001b[0m\u001b[0m instance_id          = (known after apply)\n",
            "      \u001b[32m+\u001b[0m\u001b[0m label_fingerprint    = (known after apply)\n",
            "      \u001b[32m+\u001b[0m\u001b[0m machine_type         = \"e2-medium\"\n",
            "      \u001b[32m+\u001b[0m\u001b[0m metadata_fingerprint = (known after apply)\n",
            "      \u001b[32m+\u001b[0m\u001b[0m min_cpu_platform     = (known after apply)\n",
            "      \u001b[32m+\u001b[0m\u001b[0m name                 = \"vm-petadota-webserver\"\n",
            "      \u001b[32m+\u001b[0m\u001b[0m project              = (known after apply)\n",
            "      \u001b[32m+\u001b[0m\u001b[0m self_link            = (known after apply)\n",
            "      \u001b[32m+\u001b[0m\u001b[0m tags_fingerprint     = (known after apply)\n",
            "      \u001b[32m+\u001b[0m\u001b[0m zone                 = \"us-central1-a\"\n",
            "\n",
            "      \u001b[32m+\u001b[0m\u001b[0m boot_disk {\n",
            "          \u001b[32m+\u001b[0m\u001b[0m auto_delete                = true\n",
            "          \u001b[32m+\u001b[0m\u001b[0m device_name                = (known after apply)\n",
            "          \u001b[32m+\u001b[0m\u001b[0m disk_encryption_key_sha256 = (known after apply)\n",
            "          \u001b[32m+\u001b[0m\u001b[0m kms_key_self_link          = (known after apply)\n",
            "          \u001b[32m+\u001b[0m\u001b[0m mode                       = \"READ_WRITE\"\n",
            "          \u001b[32m+\u001b[0m\u001b[0m source                     = (known after apply)\n",
            "\n",
            "          \u001b[32m+\u001b[0m\u001b[0m initialize_params {\n",
            "              \u001b[32m+\u001b[0m\u001b[0m image  = \"debian-cloud/debian-11\"\n",
            "              \u001b[32m+\u001b[0m\u001b[0m labels = (known after apply)\n",
            "              \u001b[32m+\u001b[0m\u001b[0m size   = (known after apply)\n",
            "              \u001b[32m+\u001b[0m\u001b[0m type   = (known after apply)\n",
            "            }\n",
            "        }\n",
            "\n",
            "      \u001b[32m+\u001b[0m\u001b[0m confidential_instance_config (known after apply)\n",
            "\n",
            "      \u001b[32m+\u001b[0m\u001b[0m network_interface {\n",
            "          \u001b[32m+\u001b[0m\u001b[0m internal_ipv6_prefix_length = (known after apply)\n",
            "          \u001b[32m+\u001b[0m\u001b[0m ipv6_access_type            = (known after apply)\n",
            "          \u001b[32m+\u001b[0m\u001b[0m ipv6_address                = (known after apply)\n",
            "          \u001b[32m+\u001b[0m\u001b[0m name                        = (known after apply)\n",
            "          \u001b[32m+\u001b[0m\u001b[0m network                     = \"default\"\n",
            "          \u001b[32m+\u001b[0m\u001b[0m network_ip                  = (known after apply)\n",
            "          \u001b[32m+\u001b[0m\u001b[0m stack_type                  = (known after apply)\n",
            "          \u001b[32m+\u001b[0m\u001b[0m subnetwork                  = (known after apply)\n",
            "          \u001b[32m+\u001b[0m\u001b[0m subnetwork_project          = (known after apply)\n",
            "\n",
            "          \u001b[32m+\u001b[0m\u001b[0m access_config {\n",
            "              \u001b[32m+\u001b[0m\u001b[0m nat_ip       = (known after apply)\n",
            "              \u001b[32m+\u001b[0m\u001b[0m network_tier = (known after apply)\n",
            "            }\n",
            "        }\n",
            "\n",
            "      \u001b[32m+\u001b[0m\u001b[0m reservation_affinity (known after apply)\n",
            "\n",
            "      \u001b[32m+\u001b[0m\u001b[0m scheduling (known after apply)\n",
            "    }\n",
            "\n",
            "\u001b[1m  # google_compute_instance.vm_petadota_full\u001b[0m will be created\n",
            "\u001b[0m  \u001b[32m+\u001b[0m\u001b[0m resource \"google_compute_instance\" \"vm_petadota_full\" {\n",
            "      \u001b[32m+\u001b[0m\u001b[0m can_ip_forward       = false\n",
            "      \u001b[32m+\u001b[0m\u001b[0m cpu_platform         = (known after apply)\n",
            "      \u001b[32m+\u001b[0m\u001b[0m current_status       = (known after apply)\n",
            "      \u001b[32m+\u001b[0m\u001b[0m deletion_protection  = false\n",
            "      \u001b[32m+\u001b[0m\u001b[0m guest_accelerator    = (known after apply)\n",
            "      \u001b[32m+\u001b[0m\u001b[0m id                   = (known after apply)\n",
            "      \u001b[32m+\u001b[0m\u001b[0m instance_id          = (known after apply)\n",
            "      \u001b[32m+\u001b[0m\u001b[0m label_fingerprint    = (known after apply)\n",
            "      \u001b[32m+\u001b[0m\u001b[0m machine_type         = \"e2-medium\"\n",
            "      \u001b[32m+\u001b[0m\u001b[0m metadata             = {\n",
            "          \u001b[32m+\u001b[0m\u001b[0m \"ssh-keys\" = <<-EOT\n",
            "                usuario:ssh-rsa AAAAB3NzaC1yc2EAAAADAQABAAABAQCtBxXrkgL0RJtAyIgvtMGNe5qKy5lvyoArkNZl+NXW3xQE5xdAhLi2S+78P0X/0xfDsLXaFqmdfrfdDnKbMpnuwtZylTN8/fXWZRukdMrSdKqXSDCq5yW2wBL3B7+C1pW+4Nd9kf9IY/Szvr8dDMtenyGJmtFGCw4OSlzC0iYixZYu8gCL4mrCorreFGXoJHmHz6qRg/znmcbqX7sWWYtMFGztTQ0BAJfS8B5Z22yv/zYUNLe59c7BdYf4y8/5t5o8R9XjKZWlGJ3mQFqwnzWnbU7mB14tN3vRbb4MhPRBOer+a3g6EjJZc3JqI+P6CGyCVGhjx5L9PC8lQ7vG6Gd1 root@ff917aa2336d\n",
            "            EOT\n",
            "        }\n",
            "      \u001b[32m+\u001b[0m\u001b[0m metadata_fingerprint = (known after apply)\n",
            "      \u001b[32m+\u001b[0m\u001b[0m min_cpu_platform     = (known after apply)\n",
            "      \u001b[32m+\u001b[0m\u001b[0m name                 = \"vm-petadota-full-mysql\"\n",
            "      \u001b[32m+\u001b[0m\u001b[0m project              = (known after apply)\n",
            "      \u001b[32m+\u001b[0m\u001b[0m self_link            = (known after apply)\n",
            "      \u001b[32m+\u001b[0m\u001b[0m tags_fingerprint     = (known after apply)\n",
            "      \u001b[32m+\u001b[0m\u001b[0m zone                 = \"us-central1-a\"\n",
            "\n",
            "      \u001b[32m+\u001b[0m\u001b[0m boot_disk {\n",
            "          \u001b[32m+\u001b[0m\u001b[0m auto_delete                = true\n",
            "          \u001b[32m+\u001b[0m\u001b[0m device_name                = (known after apply)\n",
            "          \u001b[32m+\u001b[0m\u001b[0m disk_encryption_key_sha256 = (known after apply)\n",
            "          \u001b[32m+\u001b[0m\u001b[0m kms_key_self_link          = (known after apply)\n",
            "          \u001b[32m+\u001b[0m\u001b[0m mode                       = \"READ_WRITE\"\n",
            "          \u001b[32m+\u001b[0m\u001b[0m source                     = (known after apply)\n",
            "\n",
            "          \u001b[32m+\u001b[0m\u001b[0m initialize_params {\n",
            "              \u001b[32m+\u001b[0m\u001b[0m image  = \"debian-cloud/debian-11\"\n",
            "              \u001b[32m+\u001b[0m\u001b[0m labels = (known after apply)\n",
            "              \u001b[32m+\u001b[0m\u001b[0m size   = (known after apply)\n",
            "              \u001b[32m+\u001b[0m\u001b[0m type   = (known after apply)\n",
            "            }\n",
            "        }\n",
            "\n",
            "      \u001b[32m+\u001b[0m\u001b[0m confidential_instance_config (known after apply)\n",
            "\n",
            "      \u001b[32m+\u001b[0m\u001b[0m network_interface {\n",
            "          \u001b[32m+\u001b[0m\u001b[0m internal_ipv6_prefix_length = (known after apply)\n",
            "          \u001b[32m+\u001b[0m\u001b[0m ipv6_access_type            = (known after apply)\n",
            "          \u001b[32m+\u001b[0m\u001b[0m ipv6_address                = (known after apply)\n",
            "          \u001b[32m+\u001b[0m\u001b[0m name                        = (known after apply)\n",
            "          \u001b[32m+\u001b[0m\u001b[0m network                     = \"default\"\n",
            "          \u001b[32m+\u001b[0m\u001b[0m network_ip                  = (known after apply)\n",
            "          \u001b[32m+\u001b[0m\u001b[0m stack_type                  = (known after apply)\n",
            "          \u001b[32m+\u001b[0m\u001b[0m subnetwork                  = (known after apply)\n",
            "          \u001b[32m+\u001b[0m\u001b[0m subnetwork_project          = (known after apply)\n",
            "\n",
            "          \u001b[32m+\u001b[0m\u001b[0m access_config {\n",
            "              \u001b[32m+\u001b[0m\u001b[0m nat_ip       = (known after apply)\n",
            "              \u001b[32m+\u001b[0m\u001b[0m network_tier = (known after apply)\n",
            "            }\n",
            "        }\n",
            "\n",
            "      \u001b[32m+\u001b[0m\u001b[0m reservation_affinity (known after apply)\n",
            "\n",
            "      \u001b[32m+\u001b[0m\u001b[0m scheduling (known after apply)\n",
            "    }\n",
            "\n",
            "\u001b[1m  # google_storage_bucket.petadota_bucket\u001b[0m will be created\n",
            "\u001b[0m  \u001b[32m+\u001b[0m\u001b[0m resource \"google_storage_bucket\" \"petadota_bucket\" {\n",
            "      \u001b[32m+\u001b[0m\u001b[0m force_destroy               = false\n",
            "      \u001b[32m+\u001b[0m\u001b[0m id                          = (known after apply)\n",
            "      \u001b[32m+\u001b[0m\u001b[0m labels                      = (known after apply)\n",
            "      \u001b[32m+\u001b[0m\u001b[0m location                    = \"US\"\n",
            "      \u001b[32m+\u001b[0m\u001b[0m name                        = \"petadota-bucket-storage-dugulin\"\n",
            "      \u001b[32m+\u001b[0m\u001b[0m project                     = (known after apply)\n",
            "      \u001b[32m+\u001b[0m\u001b[0m public_access_prevention    = (known after apply)\n",
            "      \u001b[32m+\u001b[0m\u001b[0m self_link                   = (known after apply)\n",
            "      \u001b[32m+\u001b[0m\u001b[0m storage_class               = \"STANDARD\"\n",
            "      \u001b[32m+\u001b[0m\u001b[0m uniform_bucket_level_access = (known after apply)\n",
            "      \u001b[32m+\u001b[0m\u001b[0m url                         = (known after apply)\n",
            "\n",
            "      \u001b[32m+\u001b[0m\u001b[0m soft_delete_policy (known after apply)\n",
            "\n",
            "      \u001b[32m+\u001b[0m\u001b[0m versioning (known after apply)\n",
            "\n",
            "      \u001b[32m+\u001b[0m\u001b[0m website (known after apply)\n",
            "    }\n",
            "\n",
            "\u001b[1mPlan:\u001b[0m 3 to add, 0 to change, 0 to destroy.\n",
            "\u001b[0m\n",
            "Changes to Outputs:\n",
            "  \u001b[32m+\u001b[0m\u001b[0m vm_ip        = (known after apply)\n",
            "  \u001b[32m+\u001b[0m\u001b[0m vm_public_ip = (known after apply)\n",
            "\n",
            "\n",
            "\n",
            "Note: You didn't use the -out option to save this plan, so Terraform can't guarantee to take exactly these actions if you run \"terraform apply\" now.\n"
          ]
        }
      ]
    },
    {
      "cell_type": "markdown",
      "source": [
        "* O bucket será criado na conta do GCP."
      ],
      "metadata": {
        "id": "HIfc81Hn8ZKG"
      }
    },
    {
      "cell_type": "code",
      "source": [
        "!terraform apply -auto-approve # Aplica as mudanças e cria o bucket"
      ],
      "metadata": {
        "colab": {
          "base_uri": "https://localhost:8080/"
        },
        "id": "3_bgzw4GbkOg",
        "outputId": "a99f4aff-0ad4-48d2-eae6-aea1942a6443"
      },
      "execution_count": 5,
      "outputs": [
        {
          "output_type": "stream",
          "name": "stdout",
          "text": [
            "\n",
            "Terraform used the selected providers to generate the following execution plan. Resource actions are indicated with the following symbols:\n",
            "  \u001b[32m+\u001b[0m create\u001b[0m\n",
            "\n",
            "Terraform will perform the following actions:\n",
            "\n",
            "\u001b[1m  # google_compute_instance.vm_petadota\u001b[0m will be created\n",
            "\u001b[0m  \u001b[32m+\u001b[0m\u001b[0m resource \"google_compute_instance\" \"vm_petadota\" {\n",
            "      \u001b[32m+\u001b[0m\u001b[0m can_ip_forward       = false\n",
            "      \u001b[32m+\u001b[0m\u001b[0m cpu_platform         = (known after apply)\n",
            "      \u001b[32m+\u001b[0m\u001b[0m current_status       = (known after apply)\n",
            "      \u001b[32m+\u001b[0m\u001b[0m deletion_protection  = false\n",
            "      \u001b[32m+\u001b[0m\u001b[0m guest_accelerator    = (known after apply)\n",
            "      \u001b[32m+\u001b[0m\u001b[0m id                   = (known after apply)\n",
            "      \u001b[32m+\u001b[0m\u001b[0m instance_id          = (known after apply)\n",
            "      \u001b[32m+\u001b[0m\u001b[0m label_fingerprint    = (known after apply)\n",
            "      \u001b[32m+\u001b[0m\u001b[0m machine_type         = \"e2-medium\"\n",
            "      \u001b[32m+\u001b[0m\u001b[0m metadata_fingerprint = (known after apply)\n",
            "      \u001b[32m+\u001b[0m\u001b[0m min_cpu_platform     = (known after apply)\n",
            "      \u001b[32m+\u001b[0m\u001b[0m name                 = \"vm-petadota-webserver\"\n",
            "      \u001b[32m+\u001b[0m\u001b[0m project              = (known after apply)\n",
            "      \u001b[32m+\u001b[0m\u001b[0m self_link            = (known after apply)\n",
            "      \u001b[32m+\u001b[0m\u001b[0m tags_fingerprint     = (known after apply)\n",
            "      \u001b[32m+\u001b[0m\u001b[0m zone                 = \"us-central1-a\"\n",
            "\n",
            "      \u001b[32m+\u001b[0m\u001b[0m boot_disk {\n",
            "          \u001b[32m+\u001b[0m\u001b[0m auto_delete                = true\n",
            "          \u001b[32m+\u001b[0m\u001b[0m device_name                = (known after apply)\n",
            "          \u001b[32m+\u001b[0m\u001b[0m disk_encryption_key_sha256 = (known after apply)\n",
            "          \u001b[32m+\u001b[0m\u001b[0m kms_key_self_link          = (known after apply)\n",
            "          \u001b[32m+\u001b[0m\u001b[0m mode                       = \"READ_WRITE\"\n",
            "          \u001b[32m+\u001b[0m\u001b[0m source                     = (known after apply)\n",
            "\n",
            "          \u001b[32m+\u001b[0m\u001b[0m initialize_params {\n",
            "              \u001b[32m+\u001b[0m\u001b[0m image  = \"debian-cloud/debian-11\"\n",
            "              \u001b[32m+\u001b[0m\u001b[0m labels = (known after apply)\n",
            "              \u001b[32m+\u001b[0m\u001b[0m size   = (known after apply)\n",
            "              \u001b[32m+\u001b[0m\u001b[0m type   = (known after apply)\n",
            "            }\n",
            "        }\n",
            "\n",
            "      \u001b[32m+\u001b[0m\u001b[0m confidential_instance_config (known after apply)\n",
            "\n",
            "      \u001b[32m+\u001b[0m\u001b[0m network_interface {\n",
            "          \u001b[32m+\u001b[0m\u001b[0m internal_ipv6_prefix_length = (known after apply)\n",
            "          \u001b[32m+\u001b[0m\u001b[0m ipv6_access_type            = (known after apply)\n",
            "          \u001b[32m+\u001b[0m\u001b[0m ipv6_address                = (known after apply)\n",
            "          \u001b[32m+\u001b[0m\u001b[0m name                        = (known after apply)\n",
            "          \u001b[32m+\u001b[0m\u001b[0m network                     = \"default\"\n",
            "          \u001b[32m+\u001b[0m\u001b[0m network_ip                  = (known after apply)\n",
            "          \u001b[32m+\u001b[0m\u001b[0m stack_type                  = (known after apply)\n",
            "          \u001b[32m+\u001b[0m\u001b[0m subnetwork                  = (known after apply)\n",
            "          \u001b[32m+\u001b[0m\u001b[0m subnetwork_project          = (known after apply)\n",
            "\n",
            "          \u001b[32m+\u001b[0m\u001b[0m access_config {\n",
            "              \u001b[32m+\u001b[0m\u001b[0m nat_ip       = (known after apply)\n",
            "              \u001b[32m+\u001b[0m\u001b[0m network_tier = (known after apply)\n",
            "            }\n",
            "        }\n",
            "\n",
            "      \u001b[32m+\u001b[0m\u001b[0m reservation_affinity (known after apply)\n",
            "\n",
            "      \u001b[32m+\u001b[0m\u001b[0m scheduling (known after apply)\n",
            "    }\n",
            "\n",
            "\u001b[1m  # google_compute_instance.vm_petadota_full\u001b[0m will be created\n",
            "\u001b[0m  \u001b[32m+\u001b[0m\u001b[0m resource \"google_compute_instance\" \"vm_petadota_full\" {\n",
            "      \u001b[32m+\u001b[0m\u001b[0m can_ip_forward       = false\n",
            "      \u001b[32m+\u001b[0m\u001b[0m cpu_platform         = (known after apply)\n",
            "      \u001b[32m+\u001b[0m\u001b[0m current_status       = (known after apply)\n",
            "      \u001b[32m+\u001b[0m\u001b[0m deletion_protection  = false\n",
            "      \u001b[32m+\u001b[0m\u001b[0m guest_accelerator    = (known after apply)\n",
            "      \u001b[32m+\u001b[0m\u001b[0m id                   = (known after apply)\n",
            "      \u001b[32m+\u001b[0m\u001b[0m instance_id          = (known after apply)\n",
            "      \u001b[32m+\u001b[0m\u001b[0m label_fingerprint    = (known after apply)\n",
            "      \u001b[32m+\u001b[0m\u001b[0m machine_type         = \"e2-medium\"\n",
            "      \u001b[32m+\u001b[0m\u001b[0m metadata             = {\n",
            "          \u001b[32m+\u001b[0m\u001b[0m \"ssh-keys\" = <<-EOT\n",
            "                usuario:ssh-rsa AAAAB3NzaC1yc2EAAAADAQABAAABAQCtBxXrkgL0RJtAyIgvtMGNe5qKy5lvyoArkNZl+NXW3xQE5xdAhLi2S+78P0X/0xfDsLXaFqmdfrfdDnKbMpnuwtZylTN8/fXWZRukdMrSdKqXSDCq5yW2wBL3B7+C1pW+4Nd9kf9IY/Szvr8dDMtenyGJmtFGCw4OSlzC0iYixZYu8gCL4mrCorreFGXoJHmHz6qRg/znmcbqX7sWWYtMFGztTQ0BAJfS8B5Z22yv/zYUNLe59c7BdYf4y8/5t5o8R9XjKZWlGJ3mQFqwnzWnbU7mB14tN3vRbb4MhPRBOer+a3g6EjJZc3JqI+P6CGyCVGhjx5L9PC8lQ7vG6Gd1 root@ff917aa2336d\n",
            "            EOT\n",
            "        }\n",
            "      \u001b[32m+\u001b[0m\u001b[0m metadata_fingerprint = (known after apply)\n",
            "      \u001b[32m+\u001b[0m\u001b[0m min_cpu_platform     = (known after apply)\n",
            "      \u001b[32m+\u001b[0m\u001b[0m name                 = \"vm-petadota-full-mysql\"\n",
            "      \u001b[32m+\u001b[0m\u001b[0m project              = (known after apply)\n",
            "      \u001b[32m+\u001b[0m\u001b[0m self_link            = (known after apply)\n",
            "      \u001b[32m+\u001b[0m\u001b[0m tags_fingerprint     = (known after apply)\n",
            "      \u001b[32m+\u001b[0m\u001b[0m zone                 = \"us-central1-a\"\n",
            "\n",
            "      \u001b[32m+\u001b[0m\u001b[0m boot_disk {\n",
            "          \u001b[32m+\u001b[0m\u001b[0m auto_delete                = true\n",
            "          \u001b[32m+\u001b[0m\u001b[0m device_name                = (known after apply)\n",
            "          \u001b[32m+\u001b[0m\u001b[0m disk_encryption_key_sha256 = (known after apply)\n",
            "          \u001b[32m+\u001b[0m\u001b[0m kms_key_self_link          = (known after apply)\n",
            "          \u001b[32m+\u001b[0m\u001b[0m mode                       = \"READ_WRITE\"\n",
            "          \u001b[32m+\u001b[0m\u001b[0m source                     = (known after apply)\n",
            "\n",
            "          \u001b[32m+\u001b[0m\u001b[0m initialize_params {\n",
            "              \u001b[32m+\u001b[0m\u001b[0m image  = \"debian-cloud/debian-11\"\n",
            "              \u001b[32m+\u001b[0m\u001b[0m labels = (known after apply)\n",
            "              \u001b[32m+\u001b[0m\u001b[0m size   = (known after apply)\n",
            "              \u001b[32m+\u001b[0m\u001b[0m type   = (known after apply)\n",
            "            }\n",
            "        }\n",
            "\n",
            "      \u001b[32m+\u001b[0m\u001b[0m confidential_instance_config (known after apply)\n",
            "\n",
            "      \u001b[32m+\u001b[0m\u001b[0m network_interface {\n",
            "          \u001b[32m+\u001b[0m\u001b[0m internal_ipv6_prefix_length = (known after apply)\n",
            "          \u001b[32m+\u001b[0m\u001b[0m ipv6_access_type            = (known after apply)\n",
            "          \u001b[32m+\u001b[0m\u001b[0m ipv6_address                = (known after apply)\n",
            "          \u001b[32m+\u001b[0m\u001b[0m name                        = (known after apply)\n",
            "          \u001b[32m+\u001b[0m\u001b[0m network                     = \"default\"\n",
            "          \u001b[32m+\u001b[0m\u001b[0m network_ip                  = (known after apply)\n",
            "          \u001b[32m+\u001b[0m\u001b[0m stack_type                  = (known after apply)\n",
            "          \u001b[32m+\u001b[0m\u001b[0m subnetwork                  = (known after apply)\n",
            "          \u001b[32m+\u001b[0m\u001b[0m subnetwork_project          = (known after apply)\n",
            "\n",
            "          \u001b[32m+\u001b[0m\u001b[0m access_config {\n",
            "              \u001b[32m+\u001b[0m\u001b[0m nat_ip       = (known after apply)\n",
            "              \u001b[32m+\u001b[0m\u001b[0m network_tier = (known after apply)\n",
            "            }\n",
            "        }\n",
            "\n",
            "      \u001b[32m+\u001b[0m\u001b[0m reservation_affinity (known after apply)\n",
            "\n",
            "      \u001b[32m+\u001b[0m\u001b[0m scheduling (known after apply)\n",
            "    }\n",
            "\n",
            "\u001b[1m  # google_storage_bucket.petadota_bucket\u001b[0m will be created\n",
            "\u001b[0m  \u001b[32m+\u001b[0m\u001b[0m resource \"google_storage_bucket\" \"petadota_bucket\" {\n",
            "      \u001b[32m+\u001b[0m\u001b[0m force_destroy               = false\n",
            "      \u001b[32m+\u001b[0m\u001b[0m id                          = (known after apply)\n",
            "      \u001b[32m+\u001b[0m\u001b[0m labels                      = (known after apply)\n",
            "      \u001b[32m+\u001b[0m\u001b[0m location                    = \"US\"\n",
            "      \u001b[32m+\u001b[0m\u001b[0m name                        = \"petadota-bucket-storage-dugulin\"\n",
            "      \u001b[32m+\u001b[0m\u001b[0m project                     = (known after apply)\n",
            "      \u001b[32m+\u001b[0m\u001b[0m public_access_prevention    = (known after apply)\n",
            "      \u001b[32m+\u001b[0m\u001b[0m self_link                   = (known after apply)\n",
            "      \u001b[32m+\u001b[0m\u001b[0m storage_class               = \"STANDARD\"\n",
            "      \u001b[32m+\u001b[0m\u001b[0m uniform_bucket_level_access = (known after apply)\n",
            "      \u001b[32m+\u001b[0m\u001b[0m url                         = (known after apply)\n",
            "\n",
            "      \u001b[32m+\u001b[0m\u001b[0m soft_delete_policy (known after apply)\n",
            "\n",
            "      \u001b[32m+\u001b[0m\u001b[0m versioning (known after apply)\n",
            "\n",
            "      \u001b[32m+\u001b[0m\u001b[0m website (known after apply)\n",
            "    }\n",
            "\n",
            "\u001b[1mPlan:\u001b[0m 3 to add, 0 to change, 0 to destroy.\n",
            "\u001b[0m\n",
            "Changes to Outputs:\n",
            "  \u001b[32m+\u001b[0m\u001b[0m vm_ip        = (known after apply)\n",
            "  \u001b[32m+\u001b[0m\u001b[0m vm_public_ip = (known after apply)\n",
            "\u001b[0m\u001b[1mgoogle_compute_instance.vm_petadota_full: Creating...\u001b[0m\u001b[0m\n",
            "\u001b[0m\u001b[1mgoogle_compute_instance.vm_petadota: Creating...\u001b[0m\u001b[0m\n",
            "\u001b[0m\u001b[1mgoogle_storage_bucket.petadota_bucket: Creating...\u001b[0m\u001b[0m\n",
            "\u001b[0m\u001b[1mgoogle_storage_bucket.petadota_bucket: Creation complete after 3s [id=petadota-bucket-storage-dugulin]\u001b[0m\n",
            "\u001b[31m╷\u001b[0m\u001b[0m\n",
            "\u001b[31m│\u001b[0m \u001b[0m\u001b[1m\u001b[31mError: \u001b[0m\u001b[0m\u001b[1mError creating instance: googleapi: Error 409: The resource 'projects/decoded-app-453116-m4/zones/us-central1-a/instances/vm-petadota-full-mysql' already exists, alreadyExists\u001b[0m\n",
            "\u001b[31m│\u001b[0m \u001b[0m\n",
            "\u001b[31m│\u001b[0m \u001b[0m\u001b[0m  with google_compute_instance.vm_petadota_full,\n",
            "\u001b[31m│\u001b[0m \u001b[0m  on infra.tf line 1, in resource \"google_compute_instance\" \"vm_petadota_full\":\n",
            "\u001b[31m│\u001b[0m \u001b[0m   1: resource \"google_compute_instance\" \"vm_petadota_full\" \u001b[4m{\u001b[0m\u001b[0m\n",
            "\u001b[31m│\u001b[0m \u001b[0m\n",
            "\u001b[31m╵\u001b[0m\u001b[0m\n",
            "\u001b[31m╷\u001b[0m\u001b[0m\n",
            "\u001b[31m│\u001b[0m \u001b[0m\u001b[1m\u001b[31mError: \u001b[0m\u001b[0m\u001b[1mError creating instance: googleapi: Error 409: The resource 'projects/decoded-app-453116-m4/zones/us-central1-a/instances/vm-petadota-webserver' already exists, alreadyExists\u001b[0m\n",
            "\u001b[31m│\u001b[0m \u001b[0m\n",
            "\u001b[31m│\u001b[0m \u001b[0m\u001b[0m  with google_compute_instance.vm_petadota,\n",
            "\u001b[31m│\u001b[0m \u001b[0m  on vm.tf line 1, in resource \"google_compute_instance\" \"vm_petadota\":\n",
            "\u001b[31m│\u001b[0m \u001b[0m   1: resource \"google_compute_instance\" \"vm_petadota\" \u001b[4m{\u001b[0m\u001b[0m\n",
            "\u001b[31m│\u001b[0m \u001b[0m\n",
            "\u001b[31m╵\u001b[0m\u001b[0m\n"
          ]
        }
      ]
    },
    {
      "cell_type": "markdown",
      "source": [
        "# Atividade Prática 2\n",
        "## Descrição:Criando uma Máquina Virtual no AWS EC2 com Terraform\n",
        "##Objetivo: Através do Google Colab provisionar uma máquina virtual no Google Cloud (GCP) usando Terraform para hospedar a infraestrutura da PetAdota.\n",
        "\n",
        "##* Criar o arquivo main.tf\n"
      ],
      "metadata": {
        "id": "RlGDSiUW8cU9"
      }
    },
    {
      "cell_type": "code",
      "source": [
        "%%writefile main.tf\n",
        "terraform {\n",
        "  required_providers {\n",
        "    google = {\n",
        "      source  = \"hashicorp/google\"\n",
        "      version = \"~> 4.0\" # ou a versão mais recente\n",
        "    }\n",
        "  }\n",
        "}\n",
        "\n",
        "provider \"google\" {\n",
        "  project     = \"decoded-app-453116-m4\" # ID do seu projeto GCP\n",
        "  region      = \"us-central1\" # Região padrão\n",
        "  zone        = \"us-central1-a\" # Zona padrão\n",
        "  credentials = file(\"/content/decoded-app-453116-m4-83736621c012.json\")\n",
        "}"
      ],
      "metadata": {
        "colab": {
          "base_uri": "https://localhost:8080/"
        },
        "id": "HrBWNApryAWy",
        "outputId": "e3c638de-f854-452d-a67d-cca0316757e9"
      },
      "execution_count": 6,
      "outputs": [
        {
          "output_type": "stream",
          "name": "stdout",
          "text": [
            "Overwriting main.tf\n"
          ]
        }
      ]
    },
    {
      "cell_type": "markdown",
      "source": [
        "* Criar o arquivo vm.tf"
      ],
      "metadata": {
        "id": "zPWFfyyHyTC3"
      }
    },
    {
      "cell_type": "code",
      "source": [
        "%%writefile vm.tf\n",
        "resource \"google_compute_instance\" \"vm_petadota\" {\n",
        "  name         = \"vm-petadota-webserver\"\n",
        "  machine_type = \"e2-medium\" # Tipo de máquina (pode ser ajustado)\n",
        "  zone         = \"us-central1-a\"\n",
        "\n",
        "  boot_disk {\n",
        "    initialize_params {\n",
        "      image = \"debian-cloud/debian-11\" # Imagem do sistema operacional (Debian 11)\n",
        "    }\n",
        "  }\n",
        "\n",
        "  network_interface {\n",
        "    network = \"default\" # Rede padrão\n",
        "    access_config {}     # Endereço IP público (efêmero, por padrão)\n",
        "  }\n",
        "\n",
        "#    metadata = {\n",
        "#    ssh-keys = \"meuusuario:${file(\"~/.ssh/id_rsa.pub\")}\" # ou o caminho completo para a chave\n",
        "#  }\n",
        "}\n",
        "\n",
        "\n",
        "output \"vm_public_ip\" {\n",
        "  value = google_compute_instance.vm_petadota.network_interface.0.access_config.0.nat_ip\n",
        "}"
      ],
      "metadata": {
        "colab": {
          "base_uri": "https://localhost:8080/"
        },
        "id": "TV-Z9wMa08Io",
        "outputId": "8d7295f4-c86b-44a5-ff90-d9418afca31f"
      },
      "execution_count": 7,
      "outputs": [
        {
          "output_type": "stream",
          "name": "stdout",
          "text": [
            "Overwriting vm.tf\n"
          ]
        }
      ]
    },
    {
      "cell_type": "markdown",
      "source": [
        "* Executar o arquivo terraform"
      ],
      "metadata": {
        "id": "A3jXVx_u8r7j"
      }
    },
    {
      "cell_type": "code",
      "source": [
        "!terraform plan # Plano de execução para vm.tf (opcional, mas recomendado)"
      ],
      "metadata": {
        "colab": {
          "base_uri": "https://localhost:8080/"
        },
        "id": "SA0zKOVlwzpc",
        "outputId": "2575f66f-f6ce-455f-a33e-8c561cc999ea"
      },
      "execution_count": 8,
      "outputs": [
        {
          "output_type": "stream",
          "name": "stdout",
          "text": [
            "\u001b[0m\u001b[1mgoogle_storage_bucket.petadota_bucket: Refreshing state... [id=petadota-bucket-storage-dugulin]\u001b[0m\n",
            "\n",
            "Terraform used the selected providers to generate the following execution plan. Resource actions are indicated with the following symbols:\n",
            "  \u001b[32m+\u001b[0m create\u001b[0m\n",
            "  \u001b[31m-\u001b[0m destroy\u001b[0m\n",
            "\n",
            "Terraform will perform the following actions:\n",
            "\n",
            "\u001b[1m  # google_compute_instance.vm_petadota\u001b[0m will be created\n",
            "\u001b[0m  \u001b[32m+\u001b[0m\u001b[0m resource \"google_compute_instance\" \"vm_petadota\" {\n",
            "      \u001b[32m+\u001b[0m\u001b[0m can_ip_forward       = false\n",
            "      \u001b[32m+\u001b[0m\u001b[0m cpu_platform         = (known after apply)\n",
            "      \u001b[32m+\u001b[0m\u001b[0m current_status       = (known after apply)\n",
            "      \u001b[32m+\u001b[0m\u001b[0m deletion_protection  = false\n",
            "      \u001b[32m+\u001b[0m\u001b[0m guest_accelerator    = (known after apply)\n",
            "      \u001b[32m+\u001b[0m\u001b[0m id                   = (known after apply)\n",
            "      \u001b[32m+\u001b[0m\u001b[0m instance_id          = (known after apply)\n",
            "      \u001b[32m+\u001b[0m\u001b[0m label_fingerprint    = (known after apply)\n",
            "      \u001b[32m+\u001b[0m\u001b[0m machine_type         = \"e2-medium\"\n",
            "      \u001b[32m+\u001b[0m\u001b[0m metadata_fingerprint = (known after apply)\n",
            "      \u001b[32m+\u001b[0m\u001b[0m min_cpu_platform     = (known after apply)\n",
            "      \u001b[32m+\u001b[0m\u001b[0m name                 = \"vm-petadota-webserver\"\n",
            "      \u001b[32m+\u001b[0m\u001b[0m project              = (known after apply)\n",
            "      \u001b[32m+\u001b[0m\u001b[0m self_link            = (known after apply)\n",
            "      \u001b[32m+\u001b[0m\u001b[0m tags_fingerprint     = (known after apply)\n",
            "      \u001b[32m+\u001b[0m\u001b[0m zone                 = \"us-central1-a\"\n",
            "\n",
            "      \u001b[32m+\u001b[0m\u001b[0m boot_disk {\n",
            "          \u001b[32m+\u001b[0m\u001b[0m auto_delete                = true\n",
            "          \u001b[32m+\u001b[0m\u001b[0m device_name                = (known after apply)\n",
            "          \u001b[32m+\u001b[0m\u001b[0m disk_encryption_key_sha256 = (known after apply)\n",
            "          \u001b[32m+\u001b[0m\u001b[0m kms_key_self_link          = (known after apply)\n",
            "          \u001b[32m+\u001b[0m\u001b[0m mode                       = \"READ_WRITE\"\n",
            "          \u001b[32m+\u001b[0m\u001b[0m source                     = (known after apply)\n",
            "\n",
            "          \u001b[32m+\u001b[0m\u001b[0m initialize_params {\n",
            "              \u001b[32m+\u001b[0m\u001b[0m image  = \"debian-cloud/debian-11\"\n",
            "              \u001b[32m+\u001b[0m\u001b[0m labels = (known after apply)\n",
            "              \u001b[32m+\u001b[0m\u001b[0m size   = (known after apply)\n",
            "              \u001b[32m+\u001b[0m\u001b[0m type   = (known after apply)\n",
            "            }\n",
            "        }\n",
            "\n",
            "      \u001b[32m+\u001b[0m\u001b[0m confidential_instance_config (known after apply)\n",
            "\n",
            "      \u001b[32m+\u001b[0m\u001b[0m network_interface {\n",
            "          \u001b[32m+\u001b[0m\u001b[0m internal_ipv6_prefix_length = (known after apply)\n",
            "          \u001b[32m+\u001b[0m\u001b[0m ipv6_access_type            = (known after apply)\n",
            "          \u001b[32m+\u001b[0m\u001b[0m ipv6_address                = (known after apply)\n",
            "          \u001b[32m+\u001b[0m\u001b[0m name                        = (known after apply)\n",
            "          \u001b[32m+\u001b[0m\u001b[0m network                     = \"default\"\n",
            "          \u001b[32m+\u001b[0m\u001b[0m network_ip                  = (known after apply)\n",
            "          \u001b[32m+\u001b[0m\u001b[0m stack_type                  = (known after apply)\n",
            "          \u001b[32m+\u001b[0m\u001b[0m subnetwork                  = (known after apply)\n",
            "          \u001b[32m+\u001b[0m\u001b[0m subnetwork_project          = (known after apply)\n",
            "\n",
            "          \u001b[32m+\u001b[0m\u001b[0m access_config {\n",
            "              \u001b[32m+\u001b[0m\u001b[0m nat_ip       = (known after apply)\n",
            "              \u001b[32m+\u001b[0m\u001b[0m network_tier = (known after apply)\n",
            "            }\n",
            "        }\n",
            "\n",
            "      \u001b[32m+\u001b[0m\u001b[0m reservation_affinity (known after apply)\n",
            "\n",
            "      \u001b[32m+\u001b[0m\u001b[0m scheduling (known after apply)\n",
            "    }\n",
            "\n",
            "\u001b[1m  # google_compute_instance.vm_petadota_full\u001b[0m will be created\n",
            "\u001b[0m  \u001b[32m+\u001b[0m\u001b[0m resource \"google_compute_instance\" \"vm_petadota_full\" {\n",
            "      \u001b[32m+\u001b[0m\u001b[0m can_ip_forward       = false\n",
            "      \u001b[32m+\u001b[0m\u001b[0m cpu_platform         = (known after apply)\n",
            "      \u001b[32m+\u001b[0m\u001b[0m current_status       = (known after apply)\n",
            "      \u001b[32m+\u001b[0m\u001b[0m deletion_protection  = false\n",
            "      \u001b[32m+\u001b[0m\u001b[0m guest_accelerator    = (known after apply)\n",
            "      \u001b[32m+\u001b[0m\u001b[0m id                   = (known after apply)\n",
            "      \u001b[32m+\u001b[0m\u001b[0m instance_id          = (known after apply)\n",
            "      \u001b[32m+\u001b[0m\u001b[0m label_fingerprint    = (known after apply)\n",
            "      \u001b[32m+\u001b[0m\u001b[0m machine_type         = \"e2-medium\"\n",
            "      \u001b[32m+\u001b[0m\u001b[0m metadata             = {\n",
            "          \u001b[32m+\u001b[0m\u001b[0m \"ssh-keys\" = <<-EOT\n",
            "                usuario:ssh-rsa AAAAB3NzaC1yc2EAAAADAQABAAABAQCtBxXrkgL0RJtAyIgvtMGNe5qKy5lvyoArkNZl+NXW3xQE5xdAhLi2S+78P0X/0xfDsLXaFqmdfrfdDnKbMpnuwtZylTN8/fXWZRukdMrSdKqXSDCq5yW2wBL3B7+C1pW+4Nd9kf9IY/Szvr8dDMtenyGJmtFGCw4OSlzC0iYixZYu8gCL4mrCorreFGXoJHmHz6qRg/znmcbqX7sWWYtMFGztTQ0BAJfS8B5Z22yv/zYUNLe59c7BdYf4y8/5t5o8R9XjKZWlGJ3mQFqwnzWnbU7mB14tN3vRbb4MhPRBOer+a3g6EjJZc3JqI+P6CGyCVGhjx5L9PC8lQ7vG6Gd1 root@ff917aa2336d\n",
            "            EOT\n",
            "        }\n",
            "      \u001b[32m+\u001b[0m\u001b[0m metadata_fingerprint = (known after apply)\n",
            "      \u001b[32m+\u001b[0m\u001b[0m min_cpu_platform     = (known after apply)\n",
            "      \u001b[32m+\u001b[0m\u001b[0m name                 = \"vm-petadota-full-mysql\"\n",
            "      \u001b[32m+\u001b[0m\u001b[0m project              = (known after apply)\n",
            "      \u001b[32m+\u001b[0m\u001b[0m self_link            = (known after apply)\n",
            "      \u001b[32m+\u001b[0m\u001b[0m tags_fingerprint     = (known after apply)\n",
            "      \u001b[32m+\u001b[0m\u001b[0m zone                 = \"us-central1-a\"\n",
            "\n",
            "      \u001b[32m+\u001b[0m\u001b[0m boot_disk {\n",
            "          \u001b[32m+\u001b[0m\u001b[0m auto_delete                = true\n",
            "          \u001b[32m+\u001b[0m\u001b[0m device_name                = (known after apply)\n",
            "          \u001b[32m+\u001b[0m\u001b[0m disk_encryption_key_sha256 = (known after apply)\n",
            "          \u001b[32m+\u001b[0m\u001b[0m kms_key_self_link          = (known after apply)\n",
            "          \u001b[32m+\u001b[0m\u001b[0m mode                       = \"READ_WRITE\"\n",
            "          \u001b[32m+\u001b[0m\u001b[0m source                     = (known after apply)\n",
            "\n",
            "          \u001b[32m+\u001b[0m\u001b[0m initialize_params {\n",
            "              \u001b[32m+\u001b[0m\u001b[0m image  = \"debian-cloud/debian-11\"\n",
            "              \u001b[32m+\u001b[0m\u001b[0m labels = (known after apply)\n",
            "              \u001b[32m+\u001b[0m\u001b[0m size   = (known after apply)\n",
            "              \u001b[32m+\u001b[0m\u001b[0m type   = (known after apply)\n",
            "            }\n",
            "        }\n",
            "\n",
            "      \u001b[32m+\u001b[0m\u001b[0m confidential_instance_config (known after apply)\n",
            "\n",
            "      \u001b[32m+\u001b[0m\u001b[0m network_interface {\n",
            "          \u001b[32m+\u001b[0m\u001b[0m internal_ipv6_prefix_length = (known after apply)\n",
            "          \u001b[32m+\u001b[0m\u001b[0m ipv6_access_type            = (known after apply)\n",
            "          \u001b[32m+\u001b[0m\u001b[0m ipv6_address                = (known after apply)\n",
            "          \u001b[32m+\u001b[0m\u001b[0m name                        = (known after apply)\n",
            "          \u001b[32m+\u001b[0m\u001b[0m network                     = \"default\"\n",
            "          \u001b[32m+\u001b[0m\u001b[0m network_ip                  = (known after apply)\n",
            "          \u001b[32m+\u001b[0m\u001b[0m stack_type                  = (known after apply)\n",
            "          \u001b[32m+\u001b[0m\u001b[0m subnetwork                  = (known after apply)\n",
            "          \u001b[32m+\u001b[0m\u001b[0m subnetwork_project          = (known after apply)\n",
            "\n",
            "          \u001b[32m+\u001b[0m\u001b[0m access_config {\n",
            "              \u001b[32m+\u001b[0m\u001b[0m nat_ip       = (known after apply)\n",
            "              \u001b[32m+\u001b[0m\u001b[0m network_tier = (known after apply)\n",
            "            }\n",
            "        }\n",
            "\n",
            "      \u001b[32m+\u001b[0m\u001b[0m reservation_affinity (known after apply)\n",
            "\n",
            "      \u001b[32m+\u001b[0m\u001b[0m scheduling (known after apply)\n",
            "    }\n",
            "\n",
            "\u001b[1m  # google_storage_bucket.petadota_bucket\u001b[0m will be \u001b[1m\u001b[31mdestroyed\u001b[0m\n",
            "  # (because google_storage_bucket.petadota_bucket is not in configuration)\n",
            "\u001b[0m  \u001b[31m-\u001b[0m\u001b[0m resource \"google_storage_bucket\" \"petadota_bucket\" {\n",
            "      \u001b[31m-\u001b[0m\u001b[0m default_event_based_hold    = false \u001b[90m-> null\u001b[0m\u001b[0m\n",
            "      \u001b[31m-\u001b[0m\u001b[0m force_destroy               = false \u001b[90m-> null\u001b[0m\u001b[0m\n",
            "      \u001b[31m-\u001b[0m\u001b[0m id                          = \"petadota-bucket-storage-dugulin\" \u001b[90m-> null\u001b[0m\u001b[0m\n",
            "      \u001b[31m-\u001b[0m\u001b[0m labels                      = {} \u001b[90m-> null\u001b[0m\u001b[0m\n",
            "      \u001b[31m-\u001b[0m\u001b[0m location                    = \"US\" \u001b[90m-> null\u001b[0m\u001b[0m\n",
            "      \u001b[31m-\u001b[0m\u001b[0m name                        = \"petadota-bucket-storage-dugulin\" \u001b[90m-> null\u001b[0m\u001b[0m\n",
            "      \u001b[31m-\u001b[0m\u001b[0m project                     = \"decoded-app-453116-m4\" \u001b[90m-> null\u001b[0m\u001b[0m\n",
            "      \u001b[31m-\u001b[0m\u001b[0m public_access_prevention    = \"inherited\" \u001b[90m-> null\u001b[0m\u001b[0m\n",
            "      \u001b[31m-\u001b[0m\u001b[0m requester_pays              = false \u001b[90m-> null\u001b[0m\u001b[0m\n",
            "      \u001b[31m-\u001b[0m\u001b[0m self_link                   = \"https://www.googleapis.com/storage/v1/b/petadota-bucket-storage-dugulin\" \u001b[90m-> null\u001b[0m\u001b[0m\n",
            "      \u001b[31m-\u001b[0m\u001b[0m storage_class               = \"STANDARD\" \u001b[90m-> null\u001b[0m\u001b[0m\n",
            "      \u001b[31m-\u001b[0m\u001b[0m uniform_bucket_level_access = false \u001b[90m-> null\u001b[0m\u001b[0m\n",
            "      \u001b[31m-\u001b[0m\u001b[0m url                         = \"gs://petadota-bucket-storage-dugulin\" \u001b[90m-> null\u001b[0m\u001b[0m\n",
            "\n",
            "      \u001b[31m-\u001b[0m\u001b[0m soft_delete_policy {\n",
            "          \u001b[31m-\u001b[0m\u001b[0m effective_time             = \"2025-03-09T23:15:50.411Z\" \u001b[90m-> null\u001b[0m\u001b[0m\n",
            "          \u001b[31m-\u001b[0m\u001b[0m retention_duration_seconds = 604800 \u001b[90m-> null\u001b[0m\u001b[0m\n",
            "        }\n",
            "    }\n",
            "\n",
            "\u001b[1mPlan:\u001b[0m 2 to add, 0 to change, 1 to destroy.\n",
            "\u001b[0m\n",
            "Changes to Outputs:\n",
            "  \u001b[32m+\u001b[0m\u001b[0m vm_ip        = (known after apply)\n",
            "  \u001b[32m+\u001b[0m\u001b[0m vm_public_ip = (known after apply)\n",
            "\n",
            "\n",
            "\n",
            "Note: You didn't use the -out option to save this plan, so Terraform can't guarantee to take exactly these actions if you run \"terraform apply\" now.\n"
          ]
        }
      ]
    },
    {
      "cell_type": "markdown",
      "source": [
        "* Uma VM deve ser criada em sua conta GCP"
      ],
      "metadata": {
        "id": "1tBfrDMo8vaV"
      }
    },
    {
      "cell_type": "code",
      "source": [
        "!terraform apply -auto-approve # Aplica as mudanças de vm.tf"
      ],
      "metadata": {
        "id": "COJt5xaVwzed",
        "colab": {
          "base_uri": "https://localhost:8080/"
        },
        "outputId": "131f0b96-c7e7-474d-a3ba-94b31863880d"
      },
      "execution_count": 9,
      "outputs": [
        {
          "output_type": "stream",
          "name": "stdout",
          "text": [
            "\u001b[0m\u001b[1mgoogle_storage_bucket.petadota_bucket: Refreshing state... [id=petadota-bucket-storage-dugulin]\u001b[0m\n",
            "\n",
            "Terraform used the selected providers to generate the following execution plan. Resource actions are indicated with the following symbols:\n",
            "  \u001b[32m+\u001b[0m create\u001b[0m\n",
            "  \u001b[31m-\u001b[0m destroy\u001b[0m\n",
            "\n",
            "Terraform will perform the following actions:\n",
            "\n",
            "\u001b[1m  # google_compute_instance.vm_petadota\u001b[0m will be created\n",
            "\u001b[0m  \u001b[32m+\u001b[0m\u001b[0m resource \"google_compute_instance\" \"vm_petadota\" {\n",
            "      \u001b[32m+\u001b[0m\u001b[0m can_ip_forward       = false\n",
            "      \u001b[32m+\u001b[0m\u001b[0m cpu_platform         = (known after apply)\n",
            "      \u001b[32m+\u001b[0m\u001b[0m current_status       = (known after apply)\n",
            "      \u001b[32m+\u001b[0m\u001b[0m deletion_protection  = false\n",
            "      \u001b[32m+\u001b[0m\u001b[0m guest_accelerator    = (known after apply)\n",
            "      \u001b[32m+\u001b[0m\u001b[0m id                   = (known after apply)\n",
            "      \u001b[32m+\u001b[0m\u001b[0m instance_id          = (known after apply)\n",
            "      \u001b[32m+\u001b[0m\u001b[0m label_fingerprint    = (known after apply)\n",
            "      \u001b[32m+\u001b[0m\u001b[0m machine_type         = \"e2-medium\"\n",
            "      \u001b[32m+\u001b[0m\u001b[0m metadata_fingerprint = (known after apply)\n",
            "      \u001b[32m+\u001b[0m\u001b[0m min_cpu_platform     = (known after apply)\n",
            "      \u001b[32m+\u001b[0m\u001b[0m name                 = \"vm-petadota-webserver\"\n",
            "      \u001b[32m+\u001b[0m\u001b[0m project              = (known after apply)\n",
            "      \u001b[32m+\u001b[0m\u001b[0m self_link            = (known after apply)\n",
            "      \u001b[32m+\u001b[0m\u001b[0m tags_fingerprint     = (known after apply)\n",
            "      \u001b[32m+\u001b[0m\u001b[0m zone                 = \"us-central1-a\"\n",
            "\n",
            "      \u001b[32m+\u001b[0m\u001b[0m boot_disk {\n",
            "          \u001b[32m+\u001b[0m\u001b[0m auto_delete                = true\n",
            "          \u001b[32m+\u001b[0m\u001b[0m device_name                = (known after apply)\n",
            "          \u001b[32m+\u001b[0m\u001b[0m disk_encryption_key_sha256 = (known after apply)\n",
            "          \u001b[32m+\u001b[0m\u001b[0m kms_key_self_link          = (known after apply)\n",
            "          \u001b[32m+\u001b[0m\u001b[0m mode                       = \"READ_WRITE\"\n",
            "          \u001b[32m+\u001b[0m\u001b[0m source                     = (known after apply)\n",
            "\n",
            "          \u001b[32m+\u001b[0m\u001b[0m initialize_params {\n",
            "              \u001b[32m+\u001b[0m\u001b[0m image  = \"debian-cloud/debian-11\"\n",
            "              \u001b[32m+\u001b[0m\u001b[0m labels = (known after apply)\n",
            "              \u001b[32m+\u001b[0m\u001b[0m size   = (known after apply)\n",
            "              \u001b[32m+\u001b[0m\u001b[0m type   = (known after apply)\n",
            "            }\n",
            "        }\n",
            "\n",
            "      \u001b[32m+\u001b[0m\u001b[0m confidential_instance_config (known after apply)\n",
            "\n",
            "      \u001b[32m+\u001b[0m\u001b[0m network_interface {\n",
            "          \u001b[32m+\u001b[0m\u001b[0m internal_ipv6_prefix_length = (known after apply)\n",
            "          \u001b[32m+\u001b[0m\u001b[0m ipv6_access_type            = (known after apply)\n",
            "          \u001b[32m+\u001b[0m\u001b[0m ipv6_address                = (known after apply)\n",
            "          \u001b[32m+\u001b[0m\u001b[0m name                        = (known after apply)\n",
            "          \u001b[32m+\u001b[0m\u001b[0m network                     = \"default\"\n",
            "          \u001b[32m+\u001b[0m\u001b[0m network_ip                  = (known after apply)\n",
            "          \u001b[32m+\u001b[0m\u001b[0m stack_type                  = (known after apply)\n",
            "          \u001b[32m+\u001b[0m\u001b[0m subnetwork                  = (known after apply)\n",
            "          \u001b[32m+\u001b[0m\u001b[0m subnetwork_project          = (known after apply)\n",
            "\n",
            "          \u001b[32m+\u001b[0m\u001b[0m access_config {\n",
            "              \u001b[32m+\u001b[0m\u001b[0m nat_ip       = (known after apply)\n",
            "              \u001b[32m+\u001b[0m\u001b[0m network_tier = (known after apply)\n",
            "            }\n",
            "        }\n",
            "\n",
            "      \u001b[32m+\u001b[0m\u001b[0m reservation_affinity (known after apply)\n",
            "\n",
            "      \u001b[32m+\u001b[0m\u001b[0m scheduling (known after apply)\n",
            "    }\n",
            "\n",
            "\u001b[1m  # google_compute_instance.vm_petadota_full\u001b[0m will be created\n",
            "\u001b[0m  \u001b[32m+\u001b[0m\u001b[0m resource \"google_compute_instance\" \"vm_petadota_full\" {\n",
            "      \u001b[32m+\u001b[0m\u001b[0m can_ip_forward       = false\n",
            "      \u001b[32m+\u001b[0m\u001b[0m cpu_platform         = (known after apply)\n",
            "      \u001b[32m+\u001b[0m\u001b[0m current_status       = (known after apply)\n",
            "      \u001b[32m+\u001b[0m\u001b[0m deletion_protection  = false\n",
            "      \u001b[32m+\u001b[0m\u001b[0m guest_accelerator    = (known after apply)\n",
            "      \u001b[32m+\u001b[0m\u001b[0m id                   = (known after apply)\n",
            "      \u001b[32m+\u001b[0m\u001b[0m instance_id          = (known after apply)\n",
            "      \u001b[32m+\u001b[0m\u001b[0m label_fingerprint    = (known after apply)\n",
            "      \u001b[32m+\u001b[0m\u001b[0m machine_type         = \"e2-medium\"\n",
            "      \u001b[32m+\u001b[0m\u001b[0m metadata             = {\n",
            "          \u001b[32m+\u001b[0m\u001b[0m \"ssh-keys\" = <<-EOT\n",
            "                usuario:ssh-rsa AAAAB3NzaC1yc2EAAAADAQABAAABAQCtBxXrkgL0RJtAyIgvtMGNe5qKy5lvyoArkNZl+NXW3xQE5xdAhLi2S+78P0X/0xfDsLXaFqmdfrfdDnKbMpnuwtZylTN8/fXWZRukdMrSdKqXSDCq5yW2wBL3B7+C1pW+4Nd9kf9IY/Szvr8dDMtenyGJmtFGCw4OSlzC0iYixZYu8gCL4mrCorreFGXoJHmHz6qRg/znmcbqX7sWWYtMFGztTQ0BAJfS8B5Z22yv/zYUNLe59c7BdYf4y8/5t5o8R9XjKZWlGJ3mQFqwnzWnbU7mB14tN3vRbb4MhPRBOer+a3g6EjJZc3JqI+P6CGyCVGhjx5L9PC8lQ7vG6Gd1 root@ff917aa2336d\n",
            "            EOT\n",
            "        }\n",
            "      \u001b[32m+\u001b[0m\u001b[0m metadata_fingerprint = (known after apply)\n",
            "      \u001b[32m+\u001b[0m\u001b[0m min_cpu_platform     = (known after apply)\n",
            "      \u001b[32m+\u001b[0m\u001b[0m name                 = \"vm-petadota-full-mysql\"\n",
            "      \u001b[32m+\u001b[0m\u001b[0m project              = (known after apply)\n",
            "      \u001b[32m+\u001b[0m\u001b[0m self_link            = (known after apply)\n",
            "      \u001b[32m+\u001b[0m\u001b[0m tags_fingerprint     = (known after apply)\n",
            "      \u001b[32m+\u001b[0m\u001b[0m zone                 = \"us-central1-a\"\n",
            "\n",
            "      \u001b[32m+\u001b[0m\u001b[0m boot_disk {\n",
            "          \u001b[32m+\u001b[0m\u001b[0m auto_delete                = true\n",
            "          \u001b[32m+\u001b[0m\u001b[0m device_name                = (known after apply)\n",
            "          \u001b[32m+\u001b[0m\u001b[0m disk_encryption_key_sha256 = (known after apply)\n",
            "          \u001b[32m+\u001b[0m\u001b[0m kms_key_self_link          = (known after apply)\n",
            "          \u001b[32m+\u001b[0m\u001b[0m mode                       = \"READ_WRITE\"\n",
            "          \u001b[32m+\u001b[0m\u001b[0m source                     = (known after apply)\n",
            "\n",
            "          \u001b[32m+\u001b[0m\u001b[0m initialize_params {\n",
            "              \u001b[32m+\u001b[0m\u001b[0m image  = \"debian-cloud/debian-11\"\n",
            "              \u001b[32m+\u001b[0m\u001b[0m labels = (known after apply)\n",
            "              \u001b[32m+\u001b[0m\u001b[0m size   = (known after apply)\n",
            "              \u001b[32m+\u001b[0m\u001b[0m type   = (known after apply)\n",
            "            }\n",
            "        }\n",
            "\n",
            "      \u001b[32m+\u001b[0m\u001b[0m confidential_instance_config (known after apply)\n",
            "\n",
            "      \u001b[32m+\u001b[0m\u001b[0m network_interface {\n",
            "          \u001b[32m+\u001b[0m\u001b[0m internal_ipv6_prefix_length = (known after apply)\n",
            "          \u001b[32m+\u001b[0m\u001b[0m ipv6_access_type            = (known after apply)\n",
            "          \u001b[32m+\u001b[0m\u001b[0m ipv6_address                = (known after apply)\n",
            "          \u001b[32m+\u001b[0m\u001b[0m name                        = (known after apply)\n",
            "          \u001b[32m+\u001b[0m\u001b[0m network                     = \"default\"\n",
            "          \u001b[32m+\u001b[0m\u001b[0m network_ip                  = (known after apply)\n",
            "          \u001b[32m+\u001b[0m\u001b[0m stack_type                  = (known after apply)\n",
            "          \u001b[32m+\u001b[0m\u001b[0m subnetwork                  = (known after apply)\n",
            "          \u001b[32m+\u001b[0m\u001b[0m subnetwork_project          = (known after apply)\n",
            "\n",
            "          \u001b[32m+\u001b[0m\u001b[0m access_config {\n",
            "              \u001b[32m+\u001b[0m\u001b[0m nat_ip       = (known after apply)\n",
            "              \u001b[32m+\u001b[0m\u001b[0m network_tier = (known after apply)\n",
            "            }\n",
            "        }\n",
            "\n",
            "      \u001b[32m+\u001b[0m\u001b[0m reservation_affinity (known after apply)\n",
            "\n",
            "      \u001b[32m+\u001b[0m\u001b[0m scheduling (known after apply)\n",
            "    }\n",
            "\n",
            "\u001b[1m  # google_storage_bucket.petadota_bucket\u001b[0m will be \u001b[1m\u001b[31mdestroyed\u001b[0m\n",
            "  # (because google_storage_bucket.petadota_bucket is not in configuration)\n",
            "\u001b[0m  \u001b[31m-\u001b[0m\u001b[0m resource \"google_storage_bucket\" \"petadota_bucket\" {\n",
            "      \u001b[31m-\u001b[0m\u001b[0m default_event_based_hold    = false \u001b[90m-> null\u001b[0m\u001b[0m\n",
            "      \u001b[31m-\u001b[0m\u001b[0m force_destroy               = false \u001b[90m-> null\u001b[0m\u001b[0m\n",
            "      \u001b[31m-\u001b[0m\u001b[0m id                          = \"petadota-bucket-storage-dugulin\" \u001b[90m-> null\u001b[0m\u001b[0m\n",
            "      \u001b[31m-\u001b[0m\u001b[0m labels                      = {} \u001b[90m-> null\u001b[0m\u001b[0m\n",
            "      \u001b[31m-\u001b[0m\u001b[0m location                    = \"US\" \u001b[90m-> null\u001b[0m\u001b[0m\n",
            "      \u001b[31m-\u001b[0m\u001b[0m name                        = \"petadota-bucket-storage-dugulin\" \u001b[90m-> null\u001b[0m\u001b[0m\n",
            "      \u001b[31m-\u001b[0m\u001b[0m project                     = \"decoded-app-453116-m4\" \u001b[90m-> null\u001b[0m\u001b[0m\n",
            "      \u001b[31m-\u001b[0m\u001b[0m public_access_prevention    = \"inherited\" \u001b[90m-> null\u001b[0m\u001b[0m\n",
            "      \u001b[31m-\u001b[0m\u001b[0m requester_pays              = false \u001b[90m-> null\u001b[0m\u001b[0m\n",
            "      \u001b[31m-\u001b[0m\u001b[0m self_link                   = \"https://www.googleapis.com/storage/v1/b/petadota-bucket-storage-dugulin\" \u001b[90m-> null\u001b[0m\u001b[0m\n",
            "      \u001b[31m-\u001b[0m\u001b[0m storage_class               = \"STANDARD\" \u001b[90m-> null\u001b[0m\u001b[0m\n",
            "      \u001b[31m-\u001b[0m\u001b[0m uniform_bucket_level_access = false \u001b[90m-> null\u001b[0m\u001b[0m\n",
            "      \u001b[31m-\u001b[0m\u001b[0m url                         = \"gs://petadota-bucket-storage-dugulin\" \u001b[90m-> null\u001b[0m\u001b[0m\n",
            "\n",
            "      \u001b[31m-\u001b[0m\u001b[0m soft_delete_policy {\n",
            "          \u001b[31m-\u001b[0m\u001b[0m effective_time             = \"2025-03-09T23:15:50.411Z\" \u001b[90m-> null\u001b[0m\u001b[0m\n",
            "          \u001b[31m-\u001b[0m\u001b[0m retention_duration_seconds = 604800 \u001b[90m-> null\u001b[0m\u001b[0m\n",
            "        }\n",
            "    }\n",
            "\n",
            "\u001b[1mPlan:\u001b[0m 2 to add, 0 to change, 1 to destroy.\n",
            "\u001b[0m\n",
            "Changes to Outputs:\n",
            "  \u001b[32m+\u001b[0m\u001b[0m vm_ip        = (known after apply)\n",
            "  \u001b[32m+\u001b[0m\u001b[0m vm_public_ip = (known after apply)\n",
            "\u001b[0m\u001b[1mgoogle_storage_bucket.petadota_bucket: Destroying... [id=petadota-bucket-storage-dugulin]\u001b[0m\u001b[0m\n",
            "\u001b[0m\u001b[1mgoogle_compute_instance.vm_petadota: Creating...\u001b[0m\u001b[0m\n",
            "\u001b[0m\u001b[1mgoogle_compute_instance.vm_petadota_full: Creating...\u001b[0m\u001b[0m\n",
            "\u001b[0m\u001b[1mgoogle_storage_bucket.petadota_bucket: Destruction complete after 2s\u001b[0m\n",
            "\u001b[31m╷\u001b[0m\u001b[0m\n",
            "\u001b[31m│\u001b[0m \u001b[0m\u001b[1m\u001b[31mError: \u001b[0m\u001b[0m\u001b[1mError creating instance: googleapi: Error 409: The resource 'projects/decoded-app-453116-m4/zones/us-central1-a/instances/vm-petadota-full-mysql' already exists, alreadyExists\u001b[0m\n",
            "\u001b[31m│\u001b[0m \u001b[0m\n",
            "\u001b[31m│\u001b[0m \u001b[0m\u001b[0m  with google_compute_instance.vm_petadota_full,\n",
            "\u001b[31m│\u001b[0m \u001b[0m  on infra.tf line 1, in resource \"google_compute_instance\" \"vm_petadota_full\":\n",
            "\u001b[31m│\u001b[0m \u001b[0m   1: resource \"google_compute_instance\" \"vm_petadota_full\" \u001b[4m{\u001b[0m\u001b[0m\n",
            "\u001b[31m│\u001b[0m \u001b[0m\n",
            "\u001b[31m╵\u001b[0m\u001b[0m\n",
            "\u001b[31m╷\u001b[0m\u001b[0m\n",
            "\u001b[31m│\u001b[0m \u001b[0m\u001b[1m\u001b[31mError: \u001b[0m\u001b[0m\u001b[1mError creating instance: googleapi: Error 409: The resource 'projects/decoded-app-453116-m4/zones/us-central1-a/instances/vm-petadota-webserver' already exists, alreadyExists\u001b[0m\n",
            "\u001b[31m│\u001b[0m \u001b[0m\n",
            "\u001b[31m│\u001b[0m \u001b[0m\u001b[0m  with google_compute_instance.vm_petadota,\n",
            "\u001b[31m│\u001b[0m \u001b[0m  on vm.tf line 1, in resource \"google_compute_instance\" \"vm_petadota\":\n",
            "\u001b[31m│\u001b[0m \u001b[0m   1: resource \"google_compute_instance\" \"vm_petadota\" \u001b[4m{\u001b[0m\u001b[0m\n",
            "\u001b[31m│\u001b[0m \u001b[0m\n",
            "\u001b[31m╵\u001b[0m\u001b[0m\n"
          ]
        }
      ]
    },
    {
      "cell_type": "markdown",
      "source": [
        "# Atividade Prática 3\n",
        "Descrição: Configurando um Servidor Web com Ansible.\n",
        "\n",
        "Objetivo: Utilizar Ansible para instalar e configurar o Apache automaticamente em um servidor.\n",
        "\n",
        "* Criar o arquivo playbook.yml"
      ],
      "metadata": {
        "id": "wOlonYq1847e"
      }
    },
    {
      "cell_type": "code",
      "source": [
        "%%writefile playbook.yml\n",
        "---\n",
        "- hosts: all # Aplica a todos os hosts definidos no inventário\n",
        "  become: true # Necessário para executar comandos com privilégios de administrador (sudo)\n",
        "  tasks:\n",
        "    - name: Atualizar cache do apt\n",
        "      apt:\n",
        "        update_cache: yes\n",
        "\n",
        "    - name: Instalar o Apache\n",
        "      apt:\n",
        "        name: apache2\n",
        "        state: present # Garante que o Apache esteja instalado\n",
        "\n",
        "    - name: Iniciar o serviço Apache\n",
        "      service:\n",
        "        name: apache2\n",
        "        state: started\n",
        "        enabled: yes # Garante que o Apache inicie automaticamente na inicialização do sistema"
      ],
      "metadata": {
        "colab": {
          "base_uri": "https://localhost:8080/"
        },
        "id": "j5PFoeEb9G71",
        "outputId": "b68f974c-9492-4800-c23d-9e7b2de8a5ce"
      },
      "execution_count": 10,
      "outputs": [
        {
          "output_type": "stream",
          "name": "stdout",
          "text": [
            "Overwriting playbook.yml\n"
          ]
        }
      ]
    },
    {
      "cell_type": "markdown",
      "source": [
        "* Instala o ansible"
      ],
      "metadata": {
        "id": "pvVOpsZyEpBo"
      }
    },
    {
      "cell_type": "code",
      "source": [
        "!sudo apt update\n",
        "!sudo apt install ansible -y\n",
        "!ansible --version # Verificar a instalação"
      ],
      "metadata": {
        "id": "iX-bMnU89KH1",
        "colab": {
          "base_uri": "https://localhost:8080/"
        },
        "outputId": "1b52457e-cfd3-48fa-da37-75cc89f16a4d"
      },
      "execution_count": 11,
      "outputs": [
        {
          "output_type": "stream",
          "name": "stdout",
          "text": [
            "\u001b[33m\r0% [Working]\u001b[0m\r            \rHit:1 https://cloud.r-project.org/bin/linux/ubuntu jammy-cran40/ InRelease\n",
            "\u001b[33m\r0% [Connecting to archive.ubuntu.com] [Connecting to security.ubuntu.com (91.18\u001b[0m\r                                                                               \rHit:2 https://apt.releases.hashicorp.com jammy InRelease\n",
            "Hit:3 https://developer.download.nvidia.com/compute/cuda/repos/ubuntu2204/x86_64  InRelease\n",
            "Hit:4 http://security.ubuntu.com/ubuntu jammy-security InRelease\n",
            "Hit:5 http://archive.ubuntu.com/ubuntu jammy InRelease\n",
            "Hit:6 http://archive.ubuntu.com/ubuntu jammy-updates InRelease\n",
            "Hit:7 https://r2u.stat.illinois.edu/ubuntu jammy InRelease\n",
            "Hit:8 http://archive.ubuntu.com/ubuntu jammy-backports InRelease\n",
            "Hit:9 https://ppa.launchpadcontent.net/deadsnakes/ppa/ubuntu jammy InRelease\n",
            "Hit:10 https://ppa.launchpadcontent.net/graphics-drivers/ppa/ubuntu jammy InRelease\n",
            "Hit:11 https://ppa.launchpadcontent.net/ubuntugis/ppa/ubuntu jammy InRelease\n",
            "Reading package lists... Done\n",
            "Building dependency tree... Done\n",
            "Reading state information... Done\n",
            "33 packages can be upgraded. Run 'apt list --upgradable' to see them.\n",
            "\u001b[1;33mW: \u001b[0mhttps://apt.releases.hashicorp.com/dists/jammy/InRelease: Key is stored in legacy trusted.gpg keyring (/etc/apt/trusted.gpg), see the DEPRECATION section in apt-key(8) for details.\u001b[0m\n",
            "\u001b[1;33mW: \u001b[0mSkipping acquire of configured file 'main/source/Sources' as repository 'https://r2u.stat.illinois.edu/ubuntu jammy InRelease' does not seem to provide it (sources.list entry misspelt?)\u001b[0m\n",
            "Reading package lists... Done\n",
            "Building dependency tree... Done\n",
            "Reading state information... Done\n",
            "ansible is already the newest version (2.10.7+merged+base+2.10.8+dfsg-1).\n",
            "0 upgraded, 0 newly installed, 0 to remove and 33 not upgraded.\n",
            "ansible [core 2.18.3]\n",
            "  config file = None\n",
            "  configured module search path = ['/root/.ansible/plugins/modules', '/usr/share/ansible/plugins/modules']\n",
            "  ansible python module location = /usr/local/lib/python3.11/dist-packages/ansible\n",
            "  ansible collection location = /root/.ansible/collections:/usr/share/ansible/collections\n",
            "  executable location = /usr/local/bin/ansible\n",
            "  python version = 3.11.11 (main, Dec  4 2024, 08:55:07) [GCC 11.4.0] (/usr/bin/python3)\n",
            "  jinja version = 3.1.5\n",
            "  libyaml = True\n"
          ]
        }
      ]
    },
    {
      "cell_type": "markdown",
      "source": [
        "* Executar o playbook.yml"
      ],
      "metadata": {
        "id": "Zmf6A3Tj9HS7"
      }
    },
    {
      "cell_type": "code",
      "source": [
        "!ansible-playbook playbook.yml -i \"localhost,\" --connection=local"
      ],
      "metadata": {
        "id": "WAR7Jre0_bQC",
        "colab": {
          "base_uri": "https://localhost:8080/"
        },
        "outputId": "e8405e43-f836-4522-ffc8-bce3231c0c16"
      },
      "execution_count": 12,
      "outputs": [
        {
          "output_type": "stream",
          "name": "stdout",
          "text": [
            "\n",
            "PLAY [all] *********************************************************************\n",
            "\n",
            "TASK [Gathering Facts] *********************************************************\n",
            "\u001b[1;35m[WARNING]: Platform linux on host localhost is using the discovered Python\u001b[0m\n",
            "\u001b[1;35minterpreter at /usr/bin/python3.11, but future installation of another Python\u001b[0m\n",
            "\u001b[1;35minterpreter could change the meaning of that path. See\u001b[0m\n",
            "\u001b[1;35mhttps://docs.ansible.com/ansible-\u001b[0m\n",
            "\u001b[1;35mcore/2.18/reference_appendices/interpreter_discovery.html for more information.\u001b[0m\n",
            "\u001b[0;32mok: [localhost]\u001b[0m\n",
            "\n",
            "TASK [Atualizar cache do apt] **************************************************\n",
            "\u001b[0;32mok: [localhost]\u001b[0m\n",
            "\n",
            "TASK [Instalar o Apache] *******************************************************\n",
            "\u001b[0;32mok: [localhost]\u001b[0m\n",
            "\n",
            "TASK [Iniciar o serviço Apache] ************************************************\n",
            "\u001b[0;32mok: [localhost]\u001b[0m\n",
            "\n",
            "PLAY RECAP *********************************************************************\n",
            "\u001b[0;32mlocalhost\u001b[0m                  : \u001b[0;32mok=4   \u001b[0m changed=0    unreachable=0    failed=0    skipped=0    rescued=0    ignored=0   \n",
            "\n"
          ]
        }
      ]
    },
    {
      "cell_type": "markdown",
      "source": [
        "* O Apache será instalado e iniciado automaticamente no servidor.\n",
        "\n",
        "Verificar a instalação do Apache:"
      ],
      "metadata": {
        "id": "yNGITYga9KeW"
      }
    },
    {
      "cell_type": "code",
      "source": [
        "!service apache2 status"
      ],
      "metadata": {
        "colab": {
          "base_uri": "https://localhost:8080/"
        },
        "id": "EvzPaYok9N6q",
        "outputId": "40a0f7f6-2c68-45ad-f9fc-14c4d177f644"
      },
      "execution_count": 13,
      "outputs": [
        {
          "output_type": "stream",
          "name": "stdout",
          "text": [
            " * apache2 is running\n"
          ]
        }
      ]
    },
    {
      "cell_type": "markdown",
      "source": [
        "# Atividade Prática 4\n",
        "Descrição: Configuração de Banco de Dados com Ansible.\n",
        "\n",
        "Objetivo: Utilizar Ansible para instalar e configurar o MySQL automaticamente.\n",
        "* Criar o arquivo Ansible (db-playbook.yml)"
      ],
      "metadata": {
        "id": "x-8-62zY9ON4"
      }
    },
    {
      "cell_type": "code",
      "source": [
        "%%writefile db-playbook.yml\n",
        "---\n",
        "- hosts: all\n",
        "  become: true\n",
        "  tasks:\n",
        "    - name: Atualizar cache do apt\n",
        "      apt:\n",
        "        update_cache: yes\n",
        "\n",
        "    - name: Instalar o MySQL server\n",
        "      apt:\n",
        "        name: mysql-server\n",
        "        state: present\n",
        "\n",
        "    - name: Iniciar e habilitar o MySQL service\n",
        "      service:\n",
        "        name: mysql\n",
        "        state: started\n",
        "        enabled: yes\n",
        "\n",
        "    - name: Garantir que o MySQL escute em todas as interfaces (cuidado com segurança em produção!)\n",
        "      lineinfile:\n",
        "        path: /etc/mysql/mysql.conf.d/mysqld.cnf # Localização do arquivo de configuração do MySQL (pode variar dependendo da versão/OS)\n",
        "        regexp: '^bind-address'\n",
        "        line: 'bind-address = 0.0.0.0' # Escuta em todas as interfaces\n",
        "      notify: restart mysql # Notifica o handler para reiniciar o MySQL após mudança\n",
        "\n",
        "  handlers: # Handlers são tarefas que são executadas apenas quando notificadas por outras tarefas\n",
        "    - name: restart mysql # Handler para reiniciar o serviço MySQL\n",
        "      service:\n",
        "        name: mysql\n",
        "        state: restarted"
      ],
      "metadata": {
        "id": "j9L-Xe969cMu",
        "colab": {
          "base_uri": "https://localhost:8080/"
        },
        "outputId": "37df140c-e197-435b-8e8b-e8b5ab0028df"
      },
      "execution_count": 14,
      "outputs": [
        {
          "output_type": "stream",
          "name": "stdout",
          "text": [
            "Overwriting db-playbook.yml\n"
          ]
        }
      ]
    },
    {
      "cell_type": "markdown",
      "source": [
        "* Executar o playbook.yml"
      ],
      "metadata": {
        "id": "0mUvn1qw9bgh"
      }
    },
    {
      "cell_type": "code",
      "source": [
        "!ansible-playbook db-playbook.yml -i \"localhost,\" --connection=local"
      ],
      "metadata": {
        "id": "vIIfGd4T9ce-",
        "colab": {
          "base_uri": "https://localhost:8080/"
        },
        "outputId": "572a6254-d580-4ca6-9db1-a2e92cf21ceb"
      },
      "execution_count": 15,
      "outputs": [
        {
          "output_type": "stream",
          "name": "stdout",
          "text": [
            "\n",
            "PLAY [all] *********************************************************************\n",
            "\n",
            "TASK [Gathering Facts] *********************************************************\n",
            "\u001b[1;35m[WARNING]: Platform linux on host localhost is using the discovered Python\u001b[0m\n",
            "\u001b[1;35minterpreter at /usr/bin/python3.11, but future installation of another Python\u001b[0m\n",
            "\u001b[1;35minterpreter could change the meaning of that path. See\u001b[0m\n",
            "\u001b[1;35mhttps://docs.ansible.com/ansible-\u001b[0m\n",
            "\u001b[1;35mcore/2.18/reference_appendices/interpreter_discovery.html for more information.\u001b[0m\n",
            "\u001b[0;32mok: [localhost]\u001b[0m\n",
            "\n",
            "TASK [Atualizar cache do apt] **************************************************\n",
            "\u001b[0;32mok: [localhost]\u001b[0m\n",
            "\n",
            "TASK [Instalar o MySQL server] *************************************************\n",
            "\u001b[0;32mok: [localhost]\u001b[0m\n",
            "\n",
            "TASK [Iniciar e habilitar o MySQL service] *************************************\n",
            "\u001b[0;32mok: [localhost]\u001b[0m\n",
            "\n",
            "TASK [Garantir que o MySQL escute em todas as interfaces (cuidado com segurança em produção!)] ***\n",
            "\u001b[0;32mok: [localhost]\u001b[0m\n",
            "\n",
            "PLAY RECAP *********************************************************************\n",
            "\u001b[0;32mlocalhost\u001b[0m                  : \u001b[0;32mok=5   \u001b[0m changed=0    unreachable=0    failed=0    skipped=0    rescued=0    ignored=0   \n",
            "\n"
          ]
        }
      ]
    },
    {
      "cell_type": "markdown",
      "source": [
        "* O MySQL será instalado e iniciado automaticamente no servidor\n",
        "\n",
        "Verificar a instalação do MySQL"
      ],
      "metadata": {
        "id": "aAacf7pn9g4C"
      }
    },
    {
      "cell_type": "code",
      "source": [
        "#!sudo systemctl status mysql\n",
        "!mysql --version"
      ],
      "metadata": {
        "colab": {
          "base_uri": "https://localhost:8080/"
        },
        "id": "Fn8U8WEd9iZ5",
        "outputId": "2648bc1d-d4d6-4d6e-f1ee-9fad9b7ceff1"
      },
      "execution_count": 16,
      "outputs": [
        {
          "output_type": "stream",
          "name": "stdout",
          "text": [
            "mysql  Ver 8.0.41-0ubuntu0.22.04.1 for Linux on x86_64 ((Ubuntu))\n"
          ]
        }
      ]
    },
    {
      "cell_type": "code",
      "source": [
        "!ssh-keygen -t rsa -b 2048 -f ~/.ssh/id_rsa -q -N \"\""
      ],
      "metadata": {
        "id": "Tjz5BSfW9i_D",
        "colab": {
          "base_uri": "https://localhost:8080/"
        },
        "outputId": "4b740d5a-8464-4519-ec55-7f71721f2f26"
      },
      "execution_count": 17,
      "outputs": [
        {
          "output_type": "stream",
          "name": "stdout",
          "text": [
            "/root/.ssh/id_rsa already exists.\n",
            "Overwrite (y/n)? y\n"
          ]
        }
      ]
    },
    {
      "cell_type": "code",
      "source": [
        "# Lista os arquivos gerados para verificar:\n",
        "!ls -l ~/.ssh/\n",
        "\n",
        "# Mostra o conteúdo da chave PÚBLICA (você pode compartilhar esta):\n",
        "#!cat ~/.ssh/id_rsa.pub"
      ],
      "metadata": {
        "colab": {
          "base_uri": "https://localhost:8080/"
        },
        "id": "vi9Cvw4190Mu",
        "outputId": "d08fd4b3-7b12-4d5d-f15a-ea7d9b66cb04"
      },
      "execution_count": 18,
      "outputs": [
        {
          "output_type": "stream",
          "name": "stdout",
          "text": [
            "total 8\n",
            "-rw------- 1 root root 1823 Mar  9 23:16 id_rsa\n",
            "-rw-r--r-- 1 root root  399 Mar  9 23:16 id_rsa.pub\n"
          ]
        }
      ]
    },
    {
      "cell_type": "markdown",
      "source": [
        "#Atividade Prática 5\n",
        "#Descrição: Provisionamento Completo: Criando uma VM e Configurando um Banco de Dados MySQL com Terraform+ Ansible\n",
        "#Objetivo: Criar uma máquina virtual no Google Cloud (GCP) e configurar automaticamente um banco de dados MySQL usando Ansible.\n",
        "#Etapas:\n",
        "##* Criar o arquivo Terraformpara provisionar a VM (infra.tf)"
      ],
      "metadata": {
        "id": "zgm_8l_T9mXJ"
      }
    },
    {
      "cell_type": "code",
      "source": [
        "%%writefile infra.tf\n",
        "resource \"google_compute_instance\" \"vm_petadota_full\" {\n",
        "  name         = \"vm-petadota-full-mysql\"\n",
        "  machine_type = \"e2-medium\"\n",
        "  zone         = \"us-central1-a\"\n",
        "\n",
        "  boot_disk {\n",
        "    initialize_params {\n",
        "      image = \"debian-cloud/debian-11\"\n",
        "    }\n",
        "  }\n",
        "  network_interface {\n",
        "    network = \"default\"\n",
        "    access_config {} # IP público\n",
        "  }\n",
        "\n",
        "   metadata = {\n",
        "    ssh-keys = \"usuario:${file(\"~/.ssh/id_rsa.pub\")}\"\n",
        "  }\n",
        "\n",
        "}\n",
        "\n",
        "output \"vm_ip\" {\n",
        "  value = google_compute_instance.vm_petadota.network_interface.0.access_config.0.nat_ip\n",
        "}"
      ],
      "metadata": {
        "id": "y26KCu2I9xbD",
        "colab": {
          "base_uri": "https://localhost:8080/"
        },
        "outputId": "c1f89fe9-17ea-4e2c-f769-2685de67f296"
      },
      "execution_count": 19,
      "outputs": [
        {
          "output_type": "stream",
          "name": "stdout",
          "text": [
            "Overwriting infra.tf\n"
          ]
        }
      ]
    },
    {
      "cell_type": "code",
      "source": [
        "!terraform apply -auto-approve"
      ],
      "metadata": {
        "colab": {
          "base_uri": "https://localhost:8080/"
        },
        "id": "kUYndxyr-a2y",
        "outputId": "c7c9a783-f7c7-4b50-d8e9-f975e1302a5d"
      },
      "execution_count": 20,
      "outputs": [
        {
          "output_type": "stream",
          "name": "stdout",
          "text": [
            "\n",
            "Terraform used the selected providers to generate the following execution plan. Resource actions are indicated with the following symbols:\n",
            "  \u001b[32m+\u001b[0m create\u001b[0m\n",
            "\n",
            "Terraform will perform the following actions:\n",
            "\n",
            "\u001b[1m  # google_compute_instance.vm_petadota\u001b[0m will be created\n",
            "\u001b[0m  \u001b[32m+\u001b[0m\u001b[0m resource \"google_compute_instance\" \"vm_petadota\" {\n",
            "      \u001b[32m+\u001b[0m\u001b[0m can_ip_forward       = false\n",
            "      \u001b[32m+\u001b[0m\u001b[0m cpu_platform         = (known after apply)\n",
            "      \u001b[32m+\u001b[0m\u001b[0m current_status       = (known after apply)\n",
            "      \u001b[32m+\u001b[0m\u001b[0m deletion_protection  = false\n",
            "      \u001b[32m+\u001b[0m\u001b[0m guest_accelerator    = (known after apply)\n",
            "      \u001b[32m+\u001b[0m\u001b[0m id                   = (known after apply)\n",
            "      \u001b[32m+\u001b[0m\u001b[0m instance_id          = (known after apply)\n",
            "      \u001b[32m+\u001b[0m\u001b[0m label_fingerprint    = (known after apply)\n",
            "      \u001b[32m+\u001b[0m\u001b[0m machine_type         = \"e2-medium\"\n",
            "      \u001b[32m+\u001b[0m\u001b[0m metadata_fingerprint = (known after apply)\n",
            "      \u001b[32m+\u001b[0m\u001b[0m min_cpu_platform     = (known after apply)\n",
            "      \u001b[32m+\u001b[0m\u001b[0m name                 = \"vm-petadota-webserver\"\n",
            "      \u001b[32m+\u001b[0m\u001b[0m project              = (known after apply)\n",
            "      \u001b[32m+\u001b[0m\u001b[0m self_link            = (known after apply)\n",
            "      \u001b[32m+\u001b[0m\u001b[0m tags_fingerprint     = (known after apply)\n",
            "      \u001b[32m+\u001b[0m\u001b[0m zone                 = \"us-central1-a\"\n",
            "\n",
            "      \u001b[32m+\u001b[0m\u001b[0m boot_disk {\n",
            "          \u001b[32m+\u001b[0m\u001b[0m auto_delete                = true\n",
            "          \u001b[32m+\u001b[0m\u001b[0m device_name                = (known after apply)\n",
            "          \u001b[32m+\u001b[0m\u001b[0m disk_encryption_key_sha256 = (known after apply)\n",
            "          \u001b[32m+\u001b[0m\u001b[0m kms_key_self_link          = (known after apply)\n",
            "          \u001b[32m+\u001b[0m\u001b[0m mode                       = \"READ_WRITE\"\n",
            "          \u001b[32m+\u001b[0m\u001b[0m source                     = (known after apply)\n",
            "\n",
            "          \u001b[32m+\u001b[0m\u001b[0m initialize_params {\n",
            "              \u001b[32m+\u001b[0m\u001b[0m image  = \"debian-cloud/debian-11\"\n",
            "              \u001b[32m+\u001b[0m\u001b[0m labels = (known after apply)\n",
            "              \u001b[32m+\u001b[0m\u001b[0m size   = (known after apply)\n",
            "              \u001b[32m+\u001b[0m\u001b[0m type   = (known after apply)\n",
            "            }\n",
            "        }\n",
            "\n",
            "      \u001b[32m+\u001b[0m\u001b[0m confidential_instance_config (known after apply)\n",
            "\n",
            "      \u001b[32m+\u001b[0m\u001b[0m network_interface {\n",
            "          \u001b[32m+\u001b[0m\u001b[0m internal_ipv6_prefix_length = (known after apply)\n",
            "          \u001b[32m+\u001b[0m\u001b[0m ipv6_access_type            = (known after apply)\n",
            "          \u001b[32m+\u001b[0m\u001b[0m ipv6_address                = (known after apply)\n",
            "          \u001b[32m+\u001b[0m\u001b[0m name                        = (known after apply)\n",
            "          \u001b[32m+\u001b[0m\u001b[0m network                     = \"default\"\n",
            "          \u001b[32m+\u001b[0m\u001b[0m network_ip                  = (known after apply)\n",
            "          \u001b[32m+\u001b[0m\u001b[0m stack_type                  = (known after apply)\n",
            "          \u001b[32m+\u001b[0m\u001b[0m subnetwork                  = (known after apply)\n",
            "          \u001b[32m+\u001b[0m\u001b[0m subnetwork_project          = (known after apply)\n",
            "\n",
            "          \u001b[32m+\u001b[0m\u001b[0m access_config {\n",
            "              \u001b[32m+\u001b[0m\u001b[0m nat_ip       = (known after apply)\n",
            "              \u001b[32m+\u001b[0m\u001b[0m network_tier = (known after apply)\n",
            "            }\n",
            "        }\n",
            "\n",
            "      \u001b[32m+\u001b[0m\u001b[0m reservation_affinity (known after apply)\n",
            "\n",
            "      \u001b[32m+\u001b[0m\u001b[0m scheduling (known after apply)\n",
            "    }\n",
            "\n",
            "\u001b[1m  # google_compute_instance.vm_petadota_full\u001b[0m will be created\n",
            "\u001b[0m  \u001b[32m+\u001b[0m\u001b[0m resource \"google_compute_instance\" \"vm_petadota_full\" {\n",
            "      \u001b[32m+\u001b[0m\u001b[0m can_ip_forward       = false\n",
            "      \u001b[32m+\u001b[0m\u001b[0m cpu_platform         = (known after apply)\n",
            "      \u001b[32m+\u001b[0m\u001b[0m current_status       = (known after apply)\n",
            "      \u001b[32m+\u001b[0m\u001b[0m deletion_protection  = false\n",
            "      \u001b[32m+\u001b[0m\u001b[0m guest_accelerator    = (known after apply)\n",
            "      \u001b[32m+\u001b[0m\u001b[0m id                   = (known after apply)\n",
            "      \u001b[32m+\u001b[0m\u001b[0m instance_id          = (known after apply)\n",
            "      \u001b[32m+\u001b[0m\u001b[0m label_fingerprint    = (known after apply)\n",
            "      \u001b[32m+\u001b[0m\u001b[0m machine_type         = \"e2-medium\"\n",
            "      \u001b[32m+\u001b[0m\u001b[0m metadata             = {\n",
            "          \u001b[32m+\u001b[0m\u001b[0m \"ssh-keys\" = <<-EOT\n",
            "                usuario:ssh-rsa AAAAB3NzaC1yc2EAAAADAQABAAABAQC+hhet3SUpU3Ohw/wFa+fsoVdOJX2QTfaJf1sDE0h+YTUuYEBBu1FAjKuymwArCNZDlyEJEFUSKJLCISyfRqeKY2HXtV/3Yg6hcTjFyk4Fz8wDvi29Da/7rsHmtOGDk0ymOLVj+wYJCKFQOePKLjMHk8WGorxakdbwxtO7yAfcaRfuhoL/45ssm9YUFDI7RoQkknvYrPoFWqIRp/GDWqyFMYZ00jjKrnoHZ3Ymw3DUtiuLwTLsvMjEBu/1iQTNNaqq4dc1N5u+7joV/SvhQD0ur/y8moXYdMI1rte3zcRarStM6Nwjmpajns76DgSbxi5OVIPgkAnlRyTwDlfudO/z root@ff917aa2336d\n",
            "            EOT\n",
            "        }\n",
            "      \u001b[32m+\u001b[0m\u001b[0m metadata_fingerprint = (known after apply)\n",
            "      \u001b[32m+\u001b[0m\u001b[0m min_cpu_platform     = (known after apply)\n",
            "      \u001b[32m+\u001b[0m\u001b[0m name                 = \"vm-petadota-full-mysql\"\n",
            "      \u001b[32m+\u001b[0m\u001b[0m project              = (known after apply)\n",
            "      \u001b[32m+\u001b[0m\u001b[0m self_link            = (known after apply)\n",
            "      \u001b[32m+\u001b[0m\u001b[0m tags_fingerprint     = (known after apply)\n",
            "      \u001b[32m+\u001b[0m\u001b[0m zone                 = \"us-central1-a\"\n",
            "\n",
            "      \u001b[32m+\u001b[0m\u001b[0m boot_disk {\n",
            "          \u001b[32m+\u001b[0m\u001b[0m auto_delete                = true\n",
            "          \u001b[32m+\u001b[0m\u001b[0m device_name                = (known after apply)\n",
            "          \u001b[32m+\u001b[0m\u001b[0m disk_encryption_key_sha256 = (known after apply)\n",
            "          \u001b[32m+\u001b[0m\u001b[0m kms_key_self_link          = (known after apply)\n",
            "          \u001b[32m+\u001b[0m\u001b[0m mode                       = \"READ_WRITE\"\n",
            "          \u001b[32m+\u001b[0m\u001b[0m source                     = (known after apply)\n",
            "\n",
            "          \u001b[32m+\u001b[0m\u001b[0m initialize_params {\n",
            "              \u001b[32m+\u001b[0m\u001b[0m image  = \"debian-cloud/debian-11\"\n",
            "              \u001b[32m+\u001b[0m\u001b[0m labels = (known after apply)\n",
            "              \u001b[32m+\u001b[0m\u001b[0m size   = (known after apply)\n",
            "              \u001b[32m+\u001b[0m\u001b[0m type   = (known after apply)\n",
            "            }\n",
            "        }\n",
            "\n",
            "      \u001b[32m+\u001b[0m\u001b[0m confidential_instance_config (known after apply)\n",
            "\n",
            "      \u001b[32m+\u001b[0m\u001b[0m network_interface {\n",
            "          \u001b[32m+\u001b[0m\u001b[0m internal_ipv6_prefix_length = (known after apply)\n",
            "          \u001b[32m+\u001b[0m\u001b[0m ipv6_access_type            = (known after apply)\n",
            "          \u001b[32m+\u001b[0m\u001b[0m ipv6_address                = (known after apply)\n",
            "          \u001b[32m+\u001b[0m\u001b[0m name                        = (known after apply)\n",
            "          \u001b[32m+\u001b[0m\u001b[0m network                     = \"default\"\n",
            "          \u001b[32m+\u001b[0m\u001b[0m network_ip                  = (known after apply)\n",
            "          \u001b[32m+\u001b[0m\u001b[0m stack_type                  = (known after apply)\n",
            "          \u001b[32m+\u001b[0m\u001b[0m subnetwork                  = (known after apply)\n",
            "          \u001b[32m+\u001b[0m\u001b[0m subnetwork_project          = (known after apply)\n",
            "\n",
            "          \u001b[32m+\u001b[0m\u001b[0m access_config {\n",
            "              \u001b[32m+\u001b[0m\u001b[0m nat_ip       = (known after apply)\n",
            "              \u001b[32m+\u001b[0m\u001b[0m network_tier = (known after apply)\n",
            "            }\n",
            "        }\n",
            "\n",
            "      \u001b[32m+\u001b[0m\u001b[0m reservation_affinity (known after apply)\n",
            "\n",
            "      \u001b[32m+\u001b[0m\u001b[0m scheduling (known after apply)\n",
            "    }\n",
            "\n",
            "\u001b[1mPlan:\u001b[0m 2 to add, 0 to change, 0 to destroy.\n",
            "\u001b[0m\n",
            "Changes to Outputs:\n",
            "  \u001b[32m+\u001b[0m\u001b[0m vm_ip        = (known after apply)\n",
            "  \u001b[32m+\u001b[0m\u001b[0m vm_public_ip = (known after apply)\n",
            "\u001b[0m\u001b[1mgoogle_compute_instance.vm_petadota: Creating...\u001b[0m\u001b[0m\n",
            "\u001b[0m\u001b[1mgoogle_compute_instance.vm_petadota_full: Creating...\u001b[0m\u001b[0m\n",
            "\u001b[31m╷\u001b[0m\u001b[0m\n",
            "\u001b[31m│\u001b[0m \u001b[0m\u001b[1m\u001b[31mError: \u001b[0m\u001b[0m\u001b[1mError creating instance: googleapi: Error 409: The resource 'projects/decoded-app-453116-m4/zones/us-central1-a/instances/vm-petadota-full-mysql' already exists, alreadyExists\u001b[0m\n",
            "\u001b[31m│\u001b[0m \u001b[0m\n",
            "\u001b[31m│\u001b[0m \u001b[0m\u001b[0m  with google_compute_instance.vm_petadota_full,\n",
            "\u001b[31m│\u001b[0m \u001b[0m  on infra.tf line 1, in resource \"google_compute_instance\" \"vm_petadota_full\":\n",
            "\u001b[31m│\u001b[0m \u001b[0m   1: resource \"google_compute_instance\" \"vm_petadota_full\" \u001b[4m{\u001b[0m\u001b[0m\n",
            "\u001b[31m│\u001b[0m \u001b[0m\n",
            "\u001b[31m╵\u001b[0m\u001b[0m\n",
            "\u001b[31m╷\u001b[0m\u001b[0m\n",
            "\u001b[31m│\u001b[0m \u001b[0m\u001b[1m\u001b[31mError: \u001b[0m\u001b[0m\u001b[1mError creating instance: googleapi: Error 409: The resource 'projects/decoded-app-453116-m4/zones/us-central1-a/instances/vm-petadota-webserver' already exists, alreadyExists\u001b[0m\n",
            "\u001b[31m│\u001b[0m \u001b[0m\n",
            "\u001b[31m│\u001b[0m \u001b[0m\u001b[0m  with google_compute_instance.vm_petadota,\n",
            "\u001b[31m│\u001b[0m \u001b[0m  on vm.tf line 1, in resource \"google_compute_instance\" \"vm_petadota\":\n",
            "\u001b[31m│\u001b[0m \u001b[0m   1: resource \"google_compute_instance\" \"vm_petadota\" \u001b[4m{\u001b[0m\u001b[0m\n",
            "\u001b[31m│\u001b[0m \u001b[0m\n",
            "\u001b[31m╵\u001b[0m\u001b[0m\n"
          ]
        }
      ]
    },
    {
      "cell_type": "code",
      "source": [
        "%%writefile hosts\n",
        "[vm_petadota_full]\n",
        "34.60.167.216 ansible_user=usuario ansible_ssh_private_key_file=~/.ssh/id_rsa"
      ],
      "metadata": {
        "colab": {
          "base_uri": "https://localhost:8080/"
        },
        "id": "HGPvT6EjAHs5",
        "outputId": "e25d9765-0ba4-43aa-825b-b74f94bd3a08"
      },
      "execution_count": 21,
      "outputs": [
        {
          "output_type": "stream",
          "name": "stdout",
          "text": [
            "Overwriting hosts\n"
          ]
        }
      ]
    },
    {
      "cell_type": "markdown",
      "source": [
        "* Criar o PlaybookAnsible para configurar o Banco de Dados (db-playbook.yml)"
      ],
      "metadata": {
        "id": "UQyI9LhR9xvs"
      }
    },
    {
      "cell_type": "code",
      "source": [
        "%%writefile db-playbook.yml\n",
        "---\n",
        "- hosts: all\n",
        "  become: true\n",
        "  vars: # Define variáveis que serão usadas no playbook, e podem ser sobrescritas por extra_vars\n",
        "    mysql_root_password: \"default_root_password\" # Valor padrão, será sobrescrito por extra_vars se passado\n",
        "    petadota_db_name: \"petadota_db_default\"\n",
        "    petadmin_user: \"petadmin_default\"\n",
        "    petadmin_password: \"petadmin_password_default\"\n",
        "\n",
        "  tasks:\n",
        "    - name: Atualizar cache do apt\n",
        "      apt:\n",
        "        update_cache: yes\n",
        "\n",
        "    - name: Instalar o MySQL server\n",
        "      apt:\n",
        "        name: mysql-server\n",
        "        state: present\n",
        "\n",
        "    - name: Iniciar e habilitar o MySQL service\n",
        "      service:\n",
        "        name: mysql\n",
        "        state: started\n",
        "        enabled: yes\n",
        "\n",
        "    - name: Garantir que o MySQL escute em todas as interfaces (cuidado com segurança!)\n",
        "      lineinfile:\n",
        "        path: /etc/mysql/mysql.conf.d/mysqld.cnf\n",
        "        regexp: '^bind-address'\n",
        "        line: 'bind-address = 0.0.0.0'\n",
        "      notify: restart mysql\n",
        "\n",
        "    - name: Configurar senha root do MySQL\n",
        "      mysql_user: # Usando módulo mysql_user do Ansible para MySQL\n",
        "        name: root\n",
        "        password: \"{{ mysql_root_password }}\" # Usa a variável passada (ou valor padrão)\n",
        "        priv: \"*\" # Privilégios root (para configurar root password)\n",
        "        state: present\n",
        "      become: true # Necessário para executar comandos mysql como root\n",
        "\n",
        "    - name: Criar banco de dados PetAdota\n",
        "      mysql_db: # Usando módulo mysql_db para gerenciar bancos de dados MySQL\n",
        "        name: \"{{ petadota_db_name }}\" # Usa a variável para nome do banco\n",
        "        state: present\n",
        "      become: true\n",
        "\n",
        "    - name: Criar usuário petadmin e conceder permissões no banco PetAdota\n",
        "      mysql_user: # Usando módulo mysql_user para gerenciar usuários MySQL\n",
        "        name: \"{{ petadmin_user }}\" # Usa a variável para nome do usuário\n",
        "        password: \"{{ petadmin_password }}\" # Usa a variável para senha do usuário\n",
        "        priv: \"{{ petadota_db_name }}.*:ALL\" # Permissões: ALL no banco petadota_db\n",
        "        state: present\n",
        "      become: true\n",
        "\n",
        "  handlers:\n",
        "    - name: restart mysql\n",
        "      service:\n",
        "        name: mysql\n",
        "        state: restarted"
      ],
      "metadata": {
        "colab": {
          "base_uri": "https://localhost:8080/"
        },
        "id": "BoDfZzoZ90eY",
        "outputId": "9eb5cb27-65c9-4559-b3a7-2d6bfd054308"
      },
      "execution_count": 22,
      "outputs": [
        {
          "output_type": "stream",
          "name": "stdout",
          "text": [
            "Overwriting db-playbook.yml\n"
          ]
        }
      ]
    },
    {
      "cell_type": "markdown",
      "source": [
        "* Executar Terraformpara provisionar a VM"
      ],
      "metadata": {
        "id": "N29HiuPJ90zZ"
      }
    },
    {
      "cell_type": "code",
      "source": [
        "#!terraform init # Inicializar (se necessário)\n",
        "!terraform plan  # Plano de execução para infra.tf\n",
        "!terraform apply -auto-approve  # Aplicar as mudanças de infra.tf"
      ],
      "metadata": {
        "id": "FVs5SUiN93XM",
        "colab": {
          "base_uri": "https://localhost:8080/"
        },
        "outputId": "8fd45899-c639-4ea8-85a8-3deba2714ec2"
      },
      "execution_count": 23,
      "outputs": [
        {
          "output_type": "stream",
          "name": "stdout",
          "text": [
            "\n",
            "Terraform used the selected providers to generate the following execution plan. Resource actions are indicated with the following symbols:\n",
            "  \u001b[32m+\u001b[0m create\u001b[0m\n",
            "\n",
            "Terraform will perform the following actions:\n",
            "\n",
            "\u001b[1m  # google_compute_instance.vm_petadota\u001b[0m will be created\n",
            "\u001b[0m  \u001b[32m+\u001b[0m\u001b[0m resource \"google_compute_instance\" \"vm_petadota\" {\n",
            "      \u001b[32m+\u001b[0m\u001b[0m can_ip_forward       = false\n",
            "      \u001b[32m+\u001b[0m\u001b[0m cpu_platform         = (known after apply)\n",
            "      \u001b[32m+\u001b[0m\u001b[0m current_status       = (known after apply)\n",
            "      \u001b[32m+\u001b[0m\u001b[0m deletion_protection  = false\n",
            "      \u001b[32m+\u001b[0m\u001b[0m guest_accelerator    = (known after apply)\n",
            "      \u001b[32m+\u001b[0m\u001b[0m id                   = (known after apply)\n",
            "      \u001b[32m+\u001b[0m\u001b[0m instance_id          = (known after apply)\n",
            "      \u001b[32m+\u001b[0m\u001b[0m label_fingerprint    = (known after apply)\n",
            "      \u001b[32m+\u001b[0m\u001b[0m machine_type         = \"e2-medium\"\n",
            "      \u001b[32m+\u001b[0m\u001b[0m metadata_fingerprint = (known after apply)\n",
            "      \u001b[32m+\u001b[0m\u001b[0m min_cpu_platform     = (known after apply)\n",
            "      \u001b[32m+\u001b[0m\u001b[0m name                 = \"vm-petadota-webserver\"\n",
            "      \u001b[32m+\u001b[0m\u001b[0m project              = (known after apply)\n",
            "      \u001b[32m+\u001b[0m\u001b[0m self_link            = (known after apply)\n",
            "      \u001b[32m+\u001b[0m\u001b[0m tags_fingerprint     = (known after apply)\n",
            "      \u001b[32m+\u001b[0m\u001b[0m zone                 = \"us-central1-a\"\n",
            "\n",
            "      \u001b[32m+\u001b[0m\u001b[0m boot_disk {\n",
            "          \u001b[32m+\u001b[0m\u001b[0m auto_delete                = true\n",
            "          \u001b[32m+\u001b[0m\u001b[0m device_name                = (known after apply)\n",
            "          \u001b[32m+\u001b[0m\u001b[0m disk_encryption_key_sha256 = (known after apply)\n",
            "          \u001b[32m+\u001b[0m\u001b[0m kms_key_self_link          = (known after apply)\n",
            "          \u001b[32m+\u001b[0m\u001b[0m mode                       = \"READ_WRITE\"\n",
            "          \u001b[32m+\u001b[0m\u001b[0m source                     = (known after apply)\n",
            "\n",
            "          \u001b[32m+\u001b[0m\u001b[0m initialize_params {\n",
            "              \u001b[32m+\u001b[0m\u001b[0m image  = \"debian-cloud/debian-11\"\n",
            "              \u001b[32m+\u001b[0m\u001b[0m labels = (known after apply)\n",
            "              \u001b[32m+\u001b[0m\u001b[0m size   = (known after apply)\n",
            "              \u001b[32m+\u001b[0m\u001b[0m type   = (known after apply)\n",
            "            }\n",
            "        }\n",
            "\n",
            "      \u001b[32m+\u001b[0m\u001b[0m confidential_instance_config (known after apply)\n",
            "\n",
            "      \u001b[32m+\u001b[0m\u001b[0m network_interface {\n",
            "          \u001b[32m+\u001b[0m\u001b[0m internal_ipv6_prefix_length = (known after apply)\n",
            "          \u001b[32m+\u001b[0m\u001b[0m ipv6_access_type            = (known after apply)\n",
            "          \u001b[32m+\u001b[0m\u001b[0m ipv6_address                = (known after apply)\n",
            "          \u001b[32m+\u001b[0m\u001b[0m name                        = (known after apply)\n",
            "          \u001b[32m+\u001b[0m\u001b[0m network                     = \"default\"\n",
            "          \u001b[32m+\u001b[0m\u001b[0m network_ip                  = (known after apply)\n",
            "          \u001b[32m+\u001b[0m\u001b[0m stack_type                  = (known after apply)\n",
            "          \u001b[32m+\u001b[0m\u001b[0m subnetwork                  = (known after apply)\n",
            "          \u001b[32m+\u001b[0m\u001b[0m subnetwork_project          = (known after apply)\n",
            "\n",
            "          \u001b[32m+\u001b[0m\u001b[0m access_config {\n",
            "              \u001b[32m+\u001b[0m\u001b[0m nat_ip       = (known after apply)\n",
            "              \u001b[32m+\u001b[0m\u001b[0m network_tier = (known after apply)\n",
            "            }\n",
            "        }\n",
            "\n",
            "      \u001b[32m+\u001b[0m\u001b[0m reservation_affinity (known after apply)\n",
            "\n",
            "      \u001b[32m+\u001b[0m\u001b[0m scheduling (known after apply)\n",
            "    }\n",
            "\n",
            "\u001b[1m  # google_compute_instance.vm_petadota_full\u001b[0m will be created\n",
            "\u001b[0m  \u001b[32m+\u001b[0m\u001b[0m resource \"google_compute_instance\" \"vm_petadota_full\" {\n",
            "      \u001b[32m+\u001b[0m\u001b[0m can_ip_forward       = false\n",
            "      \u001b[32m+\u001b[0m\u001b[0m cpu_platform         = (known after apply)\n",
            "      \u001b[32m+\u001b[0m\u001b[0m current_status       = (known after apply)\n",
            "      \u001b[32m+\u001b[0m\u001b[0m deletion_protection  = false\n",
            "      \u001b[32m+\u001b[0m\u001b[0m guest_accelerator    = (known after apply)\n",
            "      \u001b[32m+\u001b[0m\u001b[0m id                   = (known after apply)\n",
            "      \u001b[32m+\u001b[0m\u001b[0m instance_id          = (known after apply)\n",
            "      \u001b[32m+\u001b[0m\u001b[0m label_fingerprint    = (known after apply)\n",
            "      \u001b[32m+\u001b[0m\u001b[0m machine_type         = \"e2-medium\"\n",
            "      \u001b[32m+\u001b[0m\u001b[0m metadata             = {\n",
            "          \u001b[32m+\u001b[0m\u001b[0m \"ssh-keys\" = <<-EOT\n",
            "                usuario:ssh-rsa AAAAB3NzaC1yc2EAAAADAQABAAABAQC+hhet3SUpU3Ohw/wFa+fsoVdOJX2QTfaJf1sDE0h+YTUuYEBBu1FAjKuymwArCNZDlyEJEFUSKJLCISyfRqeKY2HXtV/3Yg6hcTjFyk4Fz8wDvi29Da/7rsHmtOGDk0ymOLVj+wYJCKFQOePKLjMHk8WGorxakdbwxtO7yAfcaRfuhoL/45ssm9YUFDI7RoQkknvYrPoFWqIRp/GDWqyFMYZ00jjKrnoHZ3Ymw3DUtiuLwTLsvMjEBu/1iQTNNaqq4dc1N5u+7joV/SvhQD0ur/y8moXYdMI1rte3zcRarStM6Nwjmpajns76DgSbxi5OVIPgkAnlRyTwDlfudO/z root@ff917aa2336d\n",
            "            EOT\n",
            "        }\n",
            "      \u001b[32m+\u001b[0m\u001b[0m metadata_fingerprint = (known after apply)\n",
            "      \u001b[32m+\u001b[0m\u001b[0m min_cpu_platform     = (known after apply)\n",
            "      \u001b[32m+\u001b[0m\u001b[0m name                 = \"vm-petadota-full-mysql\"\n",
            "      \u001b[32m+\u001b[0m\u001b[0m project              = (known after apply)\n",
            "      \u001b[32m+\u001b[0m\u001b[0m self_link            = (known after apply)\n",
            "      \u001b[32m+\u001b[0m\u001b[0m tags_fingerprint     = (known after apply)\n",
            "      \u001b[32m+\u001b[0m\u001b[0m zone                 = \"us-central1-a\"\n",
            "\n",
            "      \u001b[32m+\u001b[0m\u001b[0m boot_disk {\n",
            "          \u001b[32m+\u001b[0m\u001b[0m auto_delete                = true\n",
            "          \u001b[32m+\u001b[0m\u001b[0m device_name                = (known after apply)\n",
            "          \u001b[32m+\u001b[0m\u001b[0m disk_encryption_key_sha256 = (known after apply)\n",
            "          \u001b[32m+\u001b[0m\u001b[0m kms_key_self_link          = (known after apply)\n",
            "          \u001b[32m+\u001b[0m\u001b[0m mode                       = \"READ_WRITE\"\n",
            "          \u001b[32m+\u001b[0m\u001b[0m source                     = (known after apply)\n",
            "\n",
            "          \u001b[32m+\u001b[0m\u001b[0m initialize_params {\n",
            "              \u001b[32m+\u001b[0m\u001b[0m image  = \"debian-cloud/debian-11\"\n",
            "              \u001b[32m+\u001b[0m\u001b[0m labels = (known after apply)\n",
            "              \u001b[32m+\u001b[0m\u001b[0m size   = (known after apply)\n",
            "              \u001b[32m+\u001b[0m\u001b[0m type   = (known after apply)\n",
            "            }\n",
            "        }\n",
            "\n",
            "      \u001b[32m+\u001b[0m\u001b[0m confidential_instance_config (known after apply)\n",
            "\n",
            "      \u001b[32m+\u001b[0m\u001b[0m network_interface {\n",
            "          \u001b[32m+\u001b[0m\u001b[0m internal_ipv6_prefix_length = (known after apply)\n",
            "          \u001b[32m+\u001b[0m\u001b[0m ipv6_access_type            = (known after apply)\n",
            "          \u001b[32m+\u001b[0m\u001b[0m ipv6_address                = (known after apply)\n",
            "          \u001b[32m+\u001b[0m\u001b[0m name                        = (known after apply)\n",
            "          \u001b[32m+\u001b[0m\u001b[0m network                     = \"default\"\n",
            "          \u001b[32m+\u001b[0m\u001b[0m network_ip                  = (known after apply)\n",
            "          \u001b[32m+\u001b[0m\u001b[0m stack_type                  = (known after apply)\n",
            "          \u001b[32m+\u001b[0m\u001b[0m subnetwork                  = (known after apply)\n",
            "          \u001b[32m+\u001b[0m\u001b[0m subnetwork_project          = (known after apply)\n",
            "\n",
            "          \u001b[32m+\u001b[0m\u001b[0m access_config {\n",
            "              \u001b[32m+\u001b[0m\u001b[0m nat_ip       = (known after apply)\n",
            "              \u001b[32m+\u001b[0m\u001b[0m network_tier = (known after apply)\n",
            "            }\n",
            "        }\n",
            "\n",
            "      \u001b[32m+\u001b[0m\u001b[0m reservation_affinity (known after apply)\n",
            "\n",
            "      \u001b[32m+\u001b[0m\u001b[0m scheduling (known after apply)\n",
            "    }\n",
            "\n",
            "\u001b[1mPlan:\u001b[0m 2 to add, 0 to change, 0 to destroy.\n",
            "\u001b[0m\n",
            "Changes to Outputs:\n",
            "  \u001b[32m+\u001b[0m\u001b[0m vm_ip        = (known after apply)\n",
            "  \u001b[32m+\u001b[0m\u001b[0m vm_public_ip = (known after apply)\n",
            "\n",
            "\n",
            "\n",
            "Note: You didn't use the -out option to save this plan, so Terraform can't guarantee to take exactly these actions if you run \"terraform apply\" now.\n",
            "\n",
            "Terraform used the selected providers to generate the following execution plan. Resource actions are indicated with the following symbols:\n",
            "  \u001b[32m+\u001b[0m create\u001b[0m\n",
            "\n",
            "Terraform will perform the following actions:\n",
            "\n",
            "\u001b[1m  # google_compute_instance.vm_petadota\u001b[0m will be created\n",
            "\u001b[0m  \u001b[32m+\u001b[0m\u001b[0m resource \"google_compute_instance\" \"vm_petadota\" {\n",
            "      \u001b[32m+\u001b[0m\u001b[0m can_ip_forward       = false\n",
            "      \u001b[32m+\u001b[0m\u001b[0m cpu_platform         = (known after apply)\n",
            "      \u001b[32m+\u001b[0m\u001b[0m current_status       = (known after apply)\n",
            "      \u001b[32m+\u001b[0m\u001b[0m deletion_protection  = false\n",
            "      \u001b[32m+\u001b[0m\u001b[0m guest_accelerator    = (known after apply)\n",
            "      \u001b[32m+\u001b[0m\u001b[0m id                   = (known after apply)\n",
            "      \u001b[32m+\u001b[0m\u001b[0m instance_id          = (known after apply)\n",
            "      \u001b[32m+\u001b[0m\u001b[0m label_fingerprint    = (known after apply)\n",
            "      \u001b[32m+\u001b[0m\u001b[0m machine_type         = \"e2-medium\"\n",
            "      \u001b[32m+\u001b[0m\u001b[0m metadata_fingerprint = (known after apply)\n",
            "      \u001b[32m+\u001b[0m\u001b[0m min_cpu_platform     = (known after apply)\n",
            "      \u001b[32m+\u001b[0m\u001b[0m name                 = \"vm-petadota-webserver\"\n",
            "      \u001b[32m+\u001b[0m\u001b[0m project              = (known after apply)\n",
            "      \u001b[32m+\u001b[0m\u001b[0m self_link            = (known after apply)\n",
            "      \u001b[32m+\u001b[0m\u001b[0m tags_fingerprint     = (known after apply)\n",
            "      \u001b[32m+\u001b[0m\u001b[0m zone                 = \"us-central1-a\"\n",
            "\n",
            "      \u001b[32m+\u001b[0m\u001b[0m boot_disk {\n",
            "          \u001b[32m+\u001b[0m\u001b[0m auto_delete                = true\n",
            "          \u001b[32m+\u001b[0m\u001b[0m device_name                = (known after apply)\n",
            "          \u001b[32m+\u001b[0m\u001b[0m disk_encryption_key_sha256 = (known after apply)\n",
            "          \u001b[32m+\u001b[0m\u001b[0m kms_key_self_link          = (known after apply)\n",
            "          \u001b[32m+\u001b[0m\u001b[0m mode                       = \"READ_WRITE\"\n",
            "          \u001b[32m+\u001b[0m\u001b[0m source                     = (known after apply)\n",
            "\n",
            "          \u001b[32m+\u001b[0m\u001b[0m initialize_params {\n",
            "              \u001b[32m+\u001b[0m\u001b[0m image  = \"debian-cloud/debian-11\"\n",
            "              \u001b[32m+\u001b[0m\u001b[0m labels = (known after apply)\n",
            "              \u001b[32m+\u001b[0m\u001b[0m size   = (known after apply)\n",
            "              \u001b[32m+\u001b[0m\u001b[0m type   = (known after apply)\n",
            "            }\n",
            "        }\n",
            "\n",
            "      \u001b[32m+\u001b[0m\u001b[0m confidential_instance_config (known after apply)\n",
            "\n",
            "      \u001b[32m+\u001b[0m\u001b[0m network_interface {\n",
            "          \u001b[32m+\u001b[0m\u001b[0m internal_ipv6_prefix_length = (known after apply)\n",
            "          \u001b[32m+\u001b[0m\u001b[0m ipv6_access_type            = (known after apply)\n",
            "          \u001b[32m+\u001b[0m\u001b[0m ipv6_address                = (known after apply)\n",
            "          \u001b[32m+\u001b[0m\u001b[0m name                        = (known after apply)\n",
            "          \u001b[32m+\u001b[0m\u001b[0m network                     = \"default\"\n",
            "          \u001b[32m+\u001b[0m\u001b[0m network_ip                  = (known after apply)\n",
            "          \u001b[32m+\u001b[0m\u001b[0m stack_type                  = (known after apply)\n",
            "          \u001b[32m+\u001b[0m\u001b[0m subnetwork                  = (known after apply)\n",
            "          \u001b[32m+\u001b[0m\u001b[0m subnetwork_project          = (known after apply)\n",
            "\n",
            "          \u001b[32m+\u001b[0m\u001b[0m access_config {\n",
            "              \u001b[32m+\u001b[0m\u001b[0m nat_ip       = (known after apply)\n",
            "              \u001b[32m+\u001b[0m\u001b[0m network_tier = (known after apply)\n",
            "            }\n",
            "        }\n",
            "\n",
            "      \u001b[32m+\u001b[0m\u001b[0m reservation_affinity (known after apply)\n",
            "\n",
            "      \u001b[32m+\u001b[0m\u001b[0m scheduling (known after apply)\n",
            "    }\n",
            "\n",
            "\u001b[1m  # google_compute_instance.vm_petadota_full\u001b[0m will be created\n",
            "\u001b[0m  \u001b[32m+\u001b[0m\u001b[0m resource \"google_compute_instance\" \"vm_petadota_full\" {\n",
            "      \u001b[32m+\u001b[0m\u001b[0m can_ip_forward       = false\n",
            "      \u001b[32m+\u001b[0m\u001b[0m cpu_platform         = (known after apply)\n",
            "      \u001b[32m+\u001b[0m\u001b[0m current_status       = (known after apply)\n",
            "      \u001b[32m+\u001b[0m\u001b[0m deletion_protection  = false\n",
            "      \u001b[32m+\u001b[0m\u001b[0m guest_accelerator    = (known after apply)\n",
            "      \u001b[32m+\u001b[0m\u001b[0m id                   = (known after apply)\n",
            "      \u001b[32m+\u001b[0m\u001b[0m instance_id          = (known after apply)\n",
            "      \u001b[32m+\u001b[0m\u001b[0m label_fingerprint    = (known after apply)\n",
            "      \u001b[32m+\u001b[0m\u001b[0m machine_type         = \"e2-medium\"\n",
            "      \u001b[32m+\u001b[0m\u001b[0m metadata             = {\n",
            "          \u001b[32m+\u001b[0m\u001b[0m \"ssh-keys\" = <<-EOT\n",
            "                usuario:ssh-rsa AAAAB3NzaC1yc2EAAAADAQABAAABAQC+hhet3SUpU3Ohw/wFa+fsoVdOJX2QTfaJf1sDE0h+YTUuYEBBu1FAjKuymwArCNZDlyEJEFUSKJLCISyfRqeKY2HXtV/3Yg6hcTjFyk4Fz8wDvi29Da/7rsHmtOGDk0ymOLVj+wYJCKFQOePKLjMHk8WGorxakdbwxtO7yAfcaRfuhoL/45ssm9YUFDI7RoQkknvYrPoFWqIRp/GDWqyFMYZ00jjKrnoHZ3Ymw3DUtiuLwTLsvMjEBu/1iQTNNaqq4dc1N5u+7joV/SvhQD0ur/y8moXYdMI1rte3zcRarStM6Nwjmpajns76DgSbxi5OVIPgkAnlRyTwDlfudO/z root@ff917aa2336d\n",
            "            EOT\n",
            "        }\n",
            "      \u001b[32m+\u001b[0m\u001b[0m metadata_fingerprint = (known after apply)\n",
            "      \u001b[32m+\u001b[0m\u001b[0m min_cpu_platform     = (known after apply)\n",
            "      \u001b[32m+\u001b[0m\u001b[0m name                 = \"vm-petadota-full-mysql\"\n",
            "      \u001b[32m+\u001b[0m\u001b[0m project              = (known after apply)\n",
            "      \u001b[32m+\u001b[0m\u001b[0m self_link            = (known after apply)\n",
            "      \u001b[32m+\u001b[0m\u001b[0m tags_fingerprint     = (known after apply)\n",
            "      \u001b[32m+\u001b[0m\u001b[0m zone                 = \"us-central1-a\"\n",
            "\n",
            "      \u001b[32m+\u001b[0m\u001b[0m boot_disk {\n",
            "          \u001b[32m+\u001b[0m\u001b[0m auto_delete                = true\n",
            "          \u001b[32m+\u001b[0m\u001b[0m device_name                = (known after apply)\n",
            "          \u001b[32m+\u001b[0m\u001b[0m disk_encryption_key_sha256 = (known after apply)\n",
            "          \u001b[32m+\u001b[0m\u001b[0m kms_key_self_link          = (known after apply)\n",
            "          \u001b[32m+\u001b[0m\u001b[0m mode                       = \"READ_WRITE\"\n",
            "          \u001b[32m+\u001b[0m\u001b[0m source                     = (known after apply)\n",
            "\n",
            "          \u001b[32m+\u001b[0m\u001b[0m initialize_params {\n",
            "              \u001b[32m+\u001b[0m\u001b[0m image  = \"debian-cloud/debian-11\"\n",
            "              \u001b[32m+\u001b[0m\u001b[0m labels = (known after apply)\n",
            "              \u001b[32m+\u001b[0m\u001b[0m size   = (known after apply)\n",
            "              \u001b[32m+\u001b[0m\u001b[0m type   = (known after apply)\n",
            "            }\n",
            "        }\n",
            "\n",
            "      \u001b[32m+\u001b[0m\u001b[0m confidential_instance_config (known after apply)\n",
            "\n",
            "      \u001b[32m+\u001b[0m\u001b[0m network_interface {\n",
            "          \u001b[32m+\u001b[0m\u001b[0m internal_ipv6_prefix_length = (known after apply)\n",
            "          \u001b[32m+\u001b[0m\u001b[0m ipv6_access_type            = (known after apply)\n",
            "          \u001b[32m+\u001b[0m\u001b[0m ipv6_address                = (known after apply)\n",
            "          \u001b[32m+\u001b[0m\u001b[0m name                        = (known after apply)\n",
            "          \u001b[32m+\u001b[0m\u001b[0m network                     = \"default\"\n",
            "          \u001b[32m+\u001b[0m\u001b[0m network_ip                  = (known after apply)\n",
            "          \u001b[32m+\u001b[0m\u001b[0m stack_type                  = (known after apply)\n",
            "          \u001b[32m+\u001b[0m\u001b[0m subnetwork                  = (known after apply)\n",
            "          \u001b[32m+\u001b[0m\u001b[0m subnetwork_project          = (known after apply)\n",
            "\n",
            "          \u001b[32m+\u001b[0m\u001b[0m access_config {\n",
            "              \u001b[32m+\u001b[0m\u001b[0m nat_ip       = (known after apply)\n",
            "              \u001b[32m+\u001b[0m\u001b[0m network_tier = (known after apply)\n",
            "            }\n",
            "        }\n",
            "\n",
            "      \u001b[32m+\u001b[0m\u001b[0m reservation_affinity (known after apply)\n",
            "\n",
            "      \u001b[32m+\u001b[0m\u001b[0m scheduling (known after apply)\n",
            "    }\n",
            "\n",
            "\u001b[1mPlan:\u001b[0m 2 to add, 0 to change, 0 to destroy.\n",
            "\u001b[0m\n",
            "Changes to Outputs:\n",
            "  \u001b[32m+\u001b[0m\u001b[0m vm_ip        = (known after apply)\n",
            "  \u001b[32m+\u001b[0m\u001b[0m vm_public_ip = (known after apply)\n",
            "\u001b[0m\u001b[1mgoogle_compute_instance.vm_petadota: Creating...\u001b[0m\u001b[0m\n",
            "\u001b[0m\u001b[1mgoogle_compute_instance.vm_petadota_full: Creating...\u001b[0m\u001b[0m\n",
            "\u001b[31m╷\u001b[0m\u001b[0m\n",
            "\u001b[31m│\u001b[0m \u001b[0m\u001b[1m\u001b[31mError: \u001b[0m\u001b[0m\u001b[1mError creating instance: googleapi: Error 409: The resource 'projects/decoded-app-453116-m4/zones/us-central1-a/instances/vm-petadota-full-mysql' already exists, alreadyExists\u001b[0m\n",
            "\u001b[31m│\u001b[0m \u001b[0m\n",
            "\u001b[31m│\u001b[0m \u001b[0m\u001b[0m  with google_compute_instance.vm_petadota_full,\n",
            "\u001b[31m│\u001b[0m \u001b[0m  on infra.tf line 1, in resource \"google_compute_instance\" \"vm_petadota_full\":\n",
            "\u001b[31m│\u001b[0m \u001b[0m   1: resource \"google_compute_instance\" \"vm_petadota_full\" \u001b[4m{\u001b[0m\u001b[0m\n",
            "\u001b[31m│\u001b[0m \u001b[0m\n",
            "\u001b[31m╵\u001b[0m\u001b[0m\n",
            "\u001b[31m╷\u001b[0m\u001b[0m\n",
            "\u001b[31m│\u001b[0m \u001b[0m\u001b[1m\u001b[31mError: \u001b[0m\u001b[0m\u001b[1mError creating instance: googleapi: Error 409: The resource 'projects/decoded-app-453116-m4/zones/us-central1-a/instances/vm-petadota-webserver' already exists, alreadyExists\u001b[0m\n",
            "\u001b[31m│\u001b[0m \u001b[0m\n",
            "\u001b[31m│\u001b[0m \u001b[0m\u001b[0m  with google_compute_instance.vm_petadota,\n",
            "\u001b[31m│\u001b[0m \u001b[0m  on vm.tf line 1, in resource \"google_compute_instance\" \"vm_petadota\":\n",
            "\u001b[31m│\u001b[0m \u001b[0m   1: resource \"google_compute_instance\" \"vm_petadota\" \u001b[4m{\u001b[0m\u001b[0m\n",
            "\u001b[31m│\u001b[0m \u001b[0m\n",
            "\u001b[31m╵\u001b[0m\u001b[0m\n"
          ]
        }
      ]
    },
    {
      "cell_type": "code",
      "source": [
        "!mysql --version"
      ],
      "metadata": {
        "colab": {
          "base_uri": "https://localhost:8080/"
        },
        "id": "batl9PeaGdH0",
        "outputId": "1ac40fbc-0d75-4682-fc61-ca322908c465"
      },
      "execution_count": 25,
      "outputs": [
        {
          "output_type": "stream",
          "name": "stdout",
          "text": [
            "mysql  Ver 8.0.41-0ubuntu0.22.04.1 for Linux on x86_64 ((Ubuntu))\n"
          ]
        }
      ]
    },
    {
      "cell_type": "markdown",
      "source": [
        "#Evidência de publicação de publicação no github branch IAC\n",
        "\n",
        "https://github.com/flaviamdcastro/PetAdota/tree/IAC\n",
        "\n",
        "![image.png](data:image/png;base64,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)"
      ],
      "metadata": {
        "id": "PH3ftt3sJA4N"
      }
    }
  ]
}